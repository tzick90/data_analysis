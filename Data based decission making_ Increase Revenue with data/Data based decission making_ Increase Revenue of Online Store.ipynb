{
 "cells": [
  {
   "cell_type": "code",
   "execution_count": 1,
   "metadata": {},
   "outputs": [],
   "source": [
    "#!pip install -U matplotlib"
   ]
  },
  {
   "cell_type": "code",
   "execution_count": 2,
   "metadata": {},
   "outputs": [],
   "source": [
    "#!pip install sidetable"
   ]
  },
  {
   "cell_type": "markdown",
   "metadata": {},
   "source": [
    "# Data based decission making_ Increase Revenue of Online Store"
   ]
  },
  {
   "cell_type": "markdown",
   "metadata": {},
   "source": [
    " "
   ]
  },
  {
   "cell_type": "markdown",
   "metadata": {},
   "source": [
    "## Introduction"
   ]
  },
  {
   "cell_type": "markdown",
   "metadata": {},
   "source": [
    "As a Analyst at a big online store, together with marketing department I Planned to increase the revenue of the store. For this I need to compiled list of hypotheses, prioritize these, launch an A/B test, and finally analyze the results. So as a plan I divided the whole project in 3 parts. Please use below links to go these parts promptly.\n",
    "\n"
   ]
  },
  {
   "cell_type": "markdown",
   "metadata": {},
   "source": [
    " "
   ]
  },
  {
   "cell_type": "markdown",
   "metadata": {},
   "source": [
    "## Table of Contents\n",
    "<a id='toc'></a>"
   ]
  },
  {
   "cell_type": "markdown",
   "metadata": {},
   "source": [
    "#### [1. Importing libraries](#implib)\n",
    "#### [2. Loading the Data](#data)<br>\n",
    "\n",
    "### [Part I: Priorititzing the Hypotheses](#part1) <br>\n",
    " > **[1. Applying ICE - Evaluating Method](#ICE) <br>\n",
    " > [2. Applying RICE - Evaluating Method](#RICE) <br>\n",
    " > [3. Comparing Results](#ICE-RICE)** <br>\n",
    " \n",
    "\n",
    "### [Part II: A/B Test Analysis](#part2) <br>\n",
    " > **[1.Data Preprocessing](#DPP)<br>\n",
    " > [2.Exploratory data analysis](#eda)<br>\n",
    " > [3.Evaluating the A/B Test results](#abtest)<br>\n",
    " > [4.Conclusion and Recommendation](#final)<br>**"
   ]
  },
  {
   "cell_type": "markdown",
   "metadata": {},
   "source": [
    "### 1. Importing libraries\n",
    "<a id='implib'></a>\n",
    "<a id='implib1'></a>"
   ]
  },
  {
   "cell_type": "code",
   "execution_count": 82,
   "metadata": {},
   "outputs": [],
   "source": [
    "import pandas as pd\n",
    "import matplotlib.pyplot as plt\n",
    "import numpy as np\n",
    "\n",
    "import seaborn as sns\n",
    "import scipy.stats as st\n",
    "import plotly.express as px\n",
    "\n",
    "from functools import reduce\n",
    "from io import BytesIO\n",
    "import requests\n",
    "import os\n",
    "\n",
    "import math as mth\n",
    "import warnings\n",
    "import sidetable\n",
    "warnings.filterwarnings(\"ignore\")\n",
    "%matplotlib inline"
   ]
  },
  {
   "cell_type": "markdown",
   "metadata": {},
   "source": [
    "---\n",
    "[back to: chapter start](#implib1) | [back to: table of content](#toc)"
   ]
  },
  {
   "cell_type": "markdown",
   "metadata": {},
   "source": [
    " "
   ]
  },
  {
   "cell_type": "markdown",
   "metadata": {},
   "source": [
    " "
   ]
  },
  {
   "cell_type": "markdown",
   "metadata": {},
   "source": [
    " "
   ]
  },
  {
   "cell_type": "markdown",
   "metadata": {},
   "source": [
    "### 2. Loading the Data\n",
    "<a id='data'></a>\n",
    "<a id='data1'></a>"
   ]
  },
  {
   "cell_type": "code",
   "execution_count": 13,
   "metadata": {},
   "outputs": [],
   "source": [
    "try:\n",
    "    hypothesis = pd.read_csv(r'/datasets/hypotheses_us.csv')\n",
    "    visits = pd.read_csv(r'/datasets/visits_us.csv')\n",
    "    orders = pd.read_csv(r'/datasets/orders_us.csv')\n",
    "    \n",
    "except:\n",
    "    \n",
    "    hypotheses_sheet_id = '1Z02EyYWZoz92eYDy7o0YcOYFcOxGWW1iJfoglQdsaEg'\n",
    "    visits_sheet_id = '1beU0a2B2Ypk7DNGHPyi1fPCWZeS4A-WFwC5qYSYHeUA'\n",
    "    orders_sheet_id = '1TusiKma1QN5n27KwU2bY-ld79WbDDYoHav7lvvP66ZE'\n",
    "    \n",
    "    hypotheses_file = 'https://docs.google.com/spreadsheets/d/{}/export?format=csv'.format(hypotheses_sheet_id)\n",
    "    visits_file = 'https://docs.google.com/spreadsheets/d/{}/export?format=csv'.format(visits_sheet_id)\n",
    "    orders_file = 'https://docs.google.com/spreadsheets/d/{}/export?format=csv'.format(orders_sheet_id)\n",
    "    \n",
    "    r1 = requests.get(hypotheses_file)\n",
    "    r2 = requests.get(visits_file)\n",
    "    r3 = requests.get(orders_file)\n",
    "    \n",
    "    hypotheses = pd.read_csv(BytesIO(r1.content))\n",
    "    visits = pd.read_csv(BytesIO(r2.content))\n",
    "    orders = pd.read_csv(BytesIO(r3.content))\n",
    "    "
   ]
  },
  {
   "cell_type": "markdown",
   "metadata": {},
   "source": [
    "---\n",
    "[back to: chapter start](#data1) | [back to: table of content](#toc)"
   ]
  },
  {
   "cell_type": "markdown",
   "metadata": {},
   "source": [
    " "
   ]
  },
  {
   "cell_type": "markdown",
   "metadata": {},
   "source": [
    "  "
   ]
  },
  {
   "cell_type": "markdown",
   "metadata": {},
   "source": [
    " "
   ]
  },
  {
   "cell_type": "markdown",
   "metadata": {},
   "source": [
    "## Part I: Priorititzing the Hypotheses\n",
    "<a id='part1'></a>\n",
    "<a id='part11'></a>"
   ]
  },
  {
   "cell_type": "markdown",
   "metadata": {},
   "source": [
    "**[1. Applying ICE - Evaluating Method](#ICE1) <br>\n",
    "[2. Applying RICE - Evaluating Method](#RICE1) <br>\n",
    "[3. Comparing Results](#ICE-RICE1)** <br>"
   ]
  },
  {
   "cell_type": "markdown",
   "metadata": {},
   "source": [
    " "
   ]
  },
  {
   "cell_type": "markdown",
   "metadata": {},
   "source": [
    "### 1. Applying ICE - Evaluating Method\n",
    "<a id='ICE'></a>\n",
    "<a id='ICE1'></a>"
   ]
  },
  {
   "cell_type": "code",
   "execution_count": 20,
   "metadata": {
    "scrolled": true
   },
   "outputs": [
    {
     "data": {
      "text/html": [
       "<div>\n",
       "<style scoped>\n",
       "    .dataframe tbody tr th:only-of-type {\n",
       "        vertical-align: middle;\n",
       "    }\n",
       "\n",
       "    .dataframe tbody tr th {\n",
       "        vertical-align: top;\n",
       "    }\n",
       "\n",
       "    .dataframe thead th {\n",
       "        text-align: right;\n",
       "    }\n",
       "</style>\n",
       "<table border=\"1\" class=\"dataframe\">\n",
       "  <thead>\n",
       "    <tr style=\"text-align: right;\">\n",
       "      <th></th>\n",
       "      <th>Hypothesis</th>\n",
       "      <th>Reach</th>\n",
       "      <th>Impact</th>\n",
       "      <th>Confidence</th>\n",
       "      <th>Effort</th>\n",
       "      <th>ICE</th>\n",
       "      <th>RICE</th>\n",
       "    </tr>\n",
       "  </thead>\n",
       "  <tbody>\n",
       "    <tr>\n",
       "      <th>8</th>\n",
       "      <td>Launch a promotion that gives users discounts ...</td>\n",
       "      <td>1</td>\n",
       "      <td>9</td>\n",
       "      <td>9</td>\n",
       "      <td>5</td>\n",
       "      <td>16.200</td>\n",
       "      <td>16.2</td>\n",
       "    </tr>\n",
       "    <tr>\n",
       "      <th>0</th>\n",
       "      <td>Add two new channels for attracting traffic. T...</td>\n",
       "      <td>3</td>\n",
       "      <td>10</td>\n",
       "      <td>8</td>\n",
       "      <td>6</td>\n",
       "      <td>13.333</td>\n",
       "      <td>40.0</td>\n",
       "    </tr>\n",
       "    <tr>\n",
       "      <th>7</th>\n",
       "      <td>Add a subscription form to all the main pages....</td>\n",
       "      <td>10</td>\n",
       "      <td>7</td>\n",
       "      <td>8</td>\n",
       "      <td>5</td>\n",
       "      <td>11.200</td>\n",
       "      <td>112.0</td>\n",
       "    </tr>\n",
       "    <tr>\n",
       "      <th>6</th>\n",
       "      <td>Show banners with current offers and sales on ...</td>\n",
       "      <td>5</td>\n",
       "      <td>3</td>\n",
       "      <td>8</td>\n",
       "      <td>3</td>\n",
       "      <td>8.000</td>\n",
       "      <td>40.0</td>\n",
       "    </tr>\n",
       "    <tr>\n",
       "      <th>2</th>\n",
       "      <td>Add product recommendation blocks to the store...</td>\n",
       "      <td>8</td>\n",
       "      <td>3</td>\n",
       "      <td>7</td>\n",
       "      <td>3</td>\n",
       "      <td>7.000</td>\n",
       "      <td>56.0</td>\n",
       "    </tr>\n",
       "    <tr>\n",
       "      <th>1</th>\n",
       "      <td>Launch your own delivery service. This will sh...</td>\n",
       "      <td>2</td>\n",
       "      <td>5</td>\n",
       "      <td>4</td>\n",
       "      <td>10</td>\n",
       "      <td>2.000</td>\n",
       "      <td>4.0</td>\n",
       "    </tr>\n",
       "    <tr>\n",
       "      <th>5</th>\n",
       "      <td>Add a customer review page. This will increase...</td>\n",
       "      <td>3</td>\n",
       "      <td>2</td>\n",
       "      <td>2</td>\n",
       "      <td>3</td>\n",
       "      <td>1.333</td>\n",
       "      <td>4.0</td>\n",
       "    </tr>\n",
       "    <tr>\n",
       "      <th>3</th>\n",
       "      <td>Change the category structure. This will incre...</td>\n",
       "      <td>8</td>\n",
       "      <td>3</td>\n",
       "      <td>3</td>\n",
       "      <td>8</td>\n",
       "      <td>1.125</td>\n",
       "      <td>9.0</td>\n",
       "    </tr>\n",
       "    <tr>\n",
       "      <th>4</th>\n",
       "      <td>Change the background color on the main page. ...</td>\n",
       "      <td>3</td>\n",
       "      <td>1</td>\n",
       "      <td>1</td>\n",
       "      <td>1</td>\n",
       "      <td>1.000</td>\n",
       "      <td>3.0</td>\n",
       "    </tr>\n",
       "  </tbody>\n",
       "</table>\n",
       "</div>"
      ],
      "text/plain": [
       "                                          Hypothesis  Reach  Impact  \\\n",
       "8  Launch a promotion that gives users discounts ...      1       9   \n",
       "0  Add two new channels for attracting traffic. T...      3      10   \n",
       "7  Add a subscription form to all the main pages....     10       7   \n",
       "6  Show banners with current offers and sales on ...      5       3   \n",
       "2  Add product recommendation blocks to the store...      8       3   \n",
       "1  Launch your own delivery service. This will sh...      2       5   \n",
       "5  Add a customer review page. This will increase...      3       2   \n",
       "3  Change the category structure. This will incre...      8       3   \n",
       "4  Change the background color on the main page. ...      3       1   \n",
       "\n",
       "   Confidence  Effort     ICE   RICE  \n",
       "8           9       5  16.200   16.2  \n",
       "0           8       6  13.333   40.0  \n",
       "7           8       5  11.200  112.0  \n",
       "6           8       3   8.000   40.0  \n",
       "2           7       3   7.000   56.0  \n",
       "1           4      10   2.000    4.0  \n",
       "5           2       3   1.333    4.0  \n",
       "3           3       8   1.125    9.0  \n",
       "4           1       1   1.000    3.0  "
      ]
     },
     "metadata": {},
     "output_type": "display_data"
    }
   ],
   "source": [
    "# Calculating ICE Score\n",
    "hypotheses['ICE'] = round((hypotheses['Impact'] * hypotheses['Confidence']) / hypotheses['Effort'],3)\n",
    "\n",
    "display(hypotheses.sort_values(by= 'ICE', ascending = False))"
   ]
  },
  {
   "cell_type": "markdown",
   "metadata": {},
   "source": [
    "As we know, hypothesis will cost a lot of money, but our resources are limited. So we need to choose what to test and what to let go of. To try to ensure maximum growth of key business metrics, we will first ensure to prioritized hypotheses. We have various methods of prioritizing hypotheses but here based on the data we will use ICE and RICE frameowrk to prioritized hypothesis."
   ]
  },
  {
   "cell_type": "markdown",
   "metadata": {},
   "source": [
    " "
   ]
  },
  {
   "cell_type": "markdown",
   "metadata": {},
   "source": [
    "### 2. Applying RICE - Evaluating Method\n",
    "<a id='RICE'></a>\n",
    "<a id='RICE1'></a>"
   ]
  },
  {
   "cell_type": "code",
   "execution_count": 25,
   "metadata": {},
   "outputs": [
    {
     "data": {
      "text/html": [
       "<div>\n",
       "<style scoped>\n",
       "    .dataframe tbody tr th:only-of-type {\n",
       "        vertical-align: middle;\n",
       "    }\n",
       "\n",
       "    .dataframe tbody tr th {\n",
       "        vertical-align: top;\n",
       "    }\n",
       "\n",
       "    .dataframe thead th {\n",
       "        text-align: right;\n",
       "    }\n",
       "</style>\n",
       "<table border=\"1\" class=\"dataframe\">\n",
       "  <thead>\n",
       "    <tr style=\"text-align: right;\">\n",
       "      <th></th>\n",
       "      <th>Hypothesis</th>\n",
       "      <th>Reach</th>\n",
       "      <th>Impact</th>\n",
       "      <th>Confidence</th>\n",
       "      <th>Effort</th>\n",
       "      <th>ICE</th>\n",
       "      <th>RICE</th>\n",
       "    </tr>\n",
       "  </thead>\n",
       "  <tbody>\n",
       "    <tr>\n",
       "      <th>7</th>\n",
       "      <td>Add a subscription form to all the main pages....</td>\n",
       "      <td>10</td>\n",
       "      <td>7</td>\n",
       "      <td>8</td>\n",
       "      <td>5</td>\n",
       "      <td>11.200</td>\n",
       "      <td>112.0</td>\n",
       "    </tr>\n",
       "    <tr>\n",
       "      <th>2</th>\n",
       "      <td>Add product recommendation blocks to the store...</td>\n",
       "      <td>8</td>\n",
       "      <td>3</td>\n",
       "      <td>7</td>\n",
       "      <td>3</td>\n",
       "      <td>7.000</td>\n",
       "      <td>56.0</td>\n",
       "    </tr>\n",
       "    <tr>\n",
       "      <th>0</th>\n",
       "      <td>Add two new channels for attracting traffic. T...</td>\n",
       "      <td>3</td>\n",
       "      <td>10</td>\n",
       "      <td>8</td>\n",
       "      <td>6</td>\n",
       "      <td>13.333</td>\n",
       "      <td>40.0</td>\n",
       "    </tr>\n",
       "    <tr>\n",
       "      <th>6</th>\n",
       "      <td>Show banners with current offers and sales on ...</td>\n",
       "      <td>5</td>\n",
       "      <td>3</td>\n",
       "      <td>8</td>\n",
       "      <td>3</td>\n",
       "      <td>8.000</td>\n",
       "      <td>40.0</td>\n",
       "    </tr>\n",
       "    <tr>\n",
       "      <th>8</th>\n",
       "      <td>Launch a promotion that gives users discounts ...</td>\n",
       "      <td>1</td>\n",
       "      <td>9</td>\n",
       "      <td>9</td>\n",
       "      <td>5</td>\n",
       "      <td>16.200</td>\n",
       "      <td>16.2</td>\n",
       "    </tr>\n",
       "    <tr>\n",
       "      <th>3</th>\n",
       "      <td>Change the category structure. This will incre...</td>\n",
       "      <td>8</td>\n",
       "      <td>3</td>\n",
       "      <td>3</td>\n",
       "      <td>8</td>\n",
       "      <td>1.125</td>\n",
       "      <td>9.0</td>\n",
       "    </tr>\n",
       "    <tr>\n",
       "      <th>1</th>\n",
       "      <td>Launch your own delivery service. This will sh...</td>\n",
       "      <td>2</td>\n",
       "      <td>5</td>\n",
       "      <td>4</td>\n",
       "      <td>10</td>\n",
       "      <td>2.000</td>\n",
       "      <td>4.0</td>\n",
       "    </tr>\n",
       "    <tr>\n",
       "      <th>5</th>\n",
       "      <td>Add a customer review page. This will increase...</td>\n",
       "      <td>3</td>\n",
       "      <td>2</td>\n",
       "      <td>2</td>\n",
       "      <td>3</td>\n",
       "      <td>1.333</td>\n",
       "      <td>4.0</td>\n",
       "    </tr>\n",
       "    <tr>\n",
       "      <th>4</th>\n",
       "      <td>Change the background color on the main page. ...</td>\n",
       "      <td>3</td>\n",
       "      <td>1</td>\n",
       "      <td>1</td>\n",
       "      <td>1</td>\n",
       "      <td>1.000</td>\n",
       "      <td>3.0</td>\n",
       "    </tr>\n",
       "  </tbody>\n",
       "</table>\n",
       "</div>"
      ],
      "text/plain": [
       "                                          Hypothesis  Reach  Impact  \\\n",
       "7  Add a subscription form to all the main pages....     10       7   \n",
       "2  Add product recommendation blocks to the store...      8       3   \n",
       "0  Add two new channels for attracting traffic. T...      3      10   \n",
       "6  Show banners with current offers and sales on ...      5       3   \n",
       "8  Launch a promotion that gives users discounts ...      1       9   \n",
       "3  Change the category structure. This will incre...      8       3   \n",
       "1  Launch your own delivery service. This will sh...      2       5   \n",
       "5  Add a customer review page. This will increase...      3       2   \n",
       "4  Change the background color on the main page. ...      3       1   \n",
       "\n",
       "   Confidence  Effort     ICE   RICE  \n",
       "7           8       5  11.200  112.0  \n",
       "2           7       3   7.000   56.0  \n",
       "0           8       6  13.333   40.0  \n",
       "6           8       3   8.000   40.0  \n",
       "8           9       5  16.200   16.2  \n",
       "3           3       8   1.125    9.0  \n",
       "1           4      10   2.000    4.0  \n",
       "5           2       3   1.333    4.0  \n",
       "4           1       1   1.000    3.0  "
      ]
     },
     "metadata": {},
     "output_type": "display_data"
    },
    {
     "name": "stdout",
     "output_type": "stream",
     "text": [
      "<class 'pandas.core.frame.DataFrame'>\n",
      "RangeIndex: 9 entries, 0 to 8\n",
      "Data columns (total 7 columns):\n",
      " #   Column      Non-Null Count  Dtype  \n",
      "---  ------      --------------  -----  \n",
      " 0   Hypothesis  9 non-null      object \n",
      " 1   Reach       9 non-null      int64  \n",
      " 2   Impact      9 non-null      int64  \n",
      " 3   Confidence  9 non-null      int64  \n",
      " 4   Effort      9 non-null      int64  \n",
      " 5   ICE         9 non-null      float64\n",
      " 6   RICE        9 non-null      float64\n",
      "dtypes: float64(2), int64(4), object(1)\n",
      "memory usage: 632.0+ bytes\n"
     ]
    }
   ],
   "source": [
    "# Calculating RICE Score\n",
    "hypotheses['RICE'] = (hypotheses['Reach'] * hypotheses['Impact'] * hypotheses['Confidence'])/hypotheses['Effort']\n",
    "\n",
    "display(hypotheses.sort_values(by= 'RICE', ascending = False))\n",
    "hypotheses.info()"
   ]
  },
  {
   "cell_type": "markdown",
   "metadata": {},
   "source": [
    "Top 4 hypotheses in ICE are 8,0,7,6 and in RICE are 7,2,0,6. In both the framework 0, 7 and 6 are the comman hypotheses. The difference is because of reach parameter. Reach parameter is based on the no. of users who will be affected by the change and in our case users plays an important role to increase the revenue so we will consider this factor as well and will plan the hypotheses prioritization accordingly."
   ]
  },
  {
   "cell_type": "markdown",
   "metadata": {},
   "source": [
    " "
   ]
  },
  {
   "cell_type": "markdown",
   "metadata": {},
   "source": [
    "### 3. Comparing Results\n",
    "<a id='ICE-RICE'></a>\n",
    "<a id='ICE-RICE1'></a>"
   ]
  },
  {
   "cell_type": "code",
   "execution_count": 122,
   "metadata": {},
   "outputs": [
    {
     "data": {
      "image/png": "[encoded data removed]",
      "text/plain": [
       "<Figure size 1080x432 with 1 Axes>"
      ]
     },
     "metadata": {
      "needs_background": "light"
     },
     "output_type": "display_data"
    }
   ],
   "source": [
    "hypotheses_list = ['1','2','3','4','5','6','7','8', '9']\n",
    "hl_value = pd.Series(hypotheses_list)\n",
    "\n",
    "hypotheses['number'] = hl_value\n",
    "\n",
    "# plot the difference\n",
    "\n",
    "\n",
    "ax = hypotheses[['number','ICE','RICE']].plot(kind='bar',stacked=False, figsize=(15,6))\n",
    "\n",
    "for p in ax.patches:\n",
    "    ax.annotate(str(p.get_height().round(2)), \n",
    "                (p.get_x() * 1.005, \n",
    "                 p.get_height() * 1.00005), \n",
    "                 weight='bold')\n",
    "    \n",
    "plt.title('ICE vs RICE Prioritization', size= 22)\n",
    "plt.xlabel('Hypotheses', size= 16)\n",
    "plt.ylabel('ICE/RICE Score', size= 16)\n",
    "plt.xticks(rotation= 0)\n",
    "plt.legend()\n",
    "plt.show()\n",
    "\n",
    "\n",
    "\n",
    "\n",
    "#display(hypotheses)"
   ]
  },
  {
   "cell_type": "markdown",
   "metadata": {},
   "source": [
    "As we can see from the above graph there is a difference between the RICE and ICE score, which is due to the reach parameter. In RICE reach parameter is also consider apart from other parameters. So we can say when we have high reach parameter, it shift the whole RICE score to highest level. for example hypotheses 7 have reach value as 10 which make this hypotheses as highest score value. While ICE consider impact, confidence and effort only. The highest impact, confidence and lowest effort makes ICE score high like hypotheses no 8 is the highest for ICE."
   ]
  },
  {
   "cell_type": "markdown",
   "metadata": {},
   "source": [
    "---\n",
    "[back to: chapter start](#part11) | [back to: table of content](#toc)"
   ]
  },
  {
   "cell_type": "markdown",
   "metadata": {},
   "source": [
    " "
   ]
  },
  {
   "cell_type": "markdown",
   "metadata": {},
   "source": [
    " "
   ]
  },
  {
   "cell_type": "markdown",
   "metadata": {},
   "source": [
    " "
   ]
  },
  {
   "cell_type": "markdown",
   "metadata": {},
   "source": [
    "## Part II: A/B Test Analysis\n",
    "<a id='part2'></a>\n",
    "<a id='part21'></a>"
   ]
  },
  {
   "cell_type": "markdown",
   "metadata": {},
   "source": [
    "### 1. Data Preprocessing\n",
    "<a id='DPP'></a>\n",
    "<a id='DPP1'></a>"
   ]
  },
  {
   "cell_type": "code",
   "execution_count": 85,
   "metadata": {
    "scrolled": false
   },
   "outputs": [
    {
     "name": "stdout",
     "output_type": "stream",
     "text": [
      "for visits dataset:\n",
      "\n",
      "<class 'pandas.core.frame.DataFrame'>\n",
      "RangeIndex: 62 entries, 0 to 61\n",
      "Data columns (total 3 columns):\n",
      " #   Column  Non-Null Count  Dtype \n",
      "---  ------  --------------  ----- \n",
      " 0   date    62 non-null     object\n",
      " 1   group   62 non-null     object\n",
      " 2   visits  62 non-null     int64 \n",
      "dtypes: int64(1), object(2)\n",
      "memory usage: 1.6+ KB\n"
     ]
    },
    {
     "data": {
      "text/html": [
       "<div>\n",
       "<style scoped>\n",
       "    .dataframe tbody tr th:only-of-type {\n",
       "        vertical-align: middle;\n",
       "    }\n",
       "\n",
       "    .dataframe tbody tr th {\n",
       "        vertical-align: top;\n",
       "    }\n",
       "\n",
       "    .dataframe thead th {\n",
       "        text-align: right;\n",
       "    }\n",
       "</style>\n",
       "<table border=\"1\" class=\"dataframe\">\n",
       "  <thead>\n",
       "    <tr style=\"text-align: right;\">\n",
       "      <th></th>\n",
       "      <th>date</th>\n",
       "      <th>group</th>\n",
       "      <th>visits</th>\n",
       "    </tr>\n",
       "  </thead>\n",
       "  <tbody>\n",
       "    <tr>\n",
       "      <th>0</th>\n",
       "      <td>2019-08-01</td>\n",
       "      <td>A</td>\n",
       "      <td>719</td>\n",
       "    </tr>\n",
       "    <tr>\n",
       "      <th>1</th>\n",
       "      <td>2019-08-02</td>\n",
       "      <td>A</td>\n",
       "      <td>619</td>\n",
       "    </tr>\n",
       "    <tr>\n",
       "      <th>2</th>\n",
       "      <td>2019-08-03</td>\n",
       "      <td>A</td>\n",
       "      <td>507</td>\n",
       "    </tr>\n",
       "    <tr>\n",
       "      <th>3</th>\n",
       "      <td>2019-08-04</td>\n",
       "      <td>A</td>\n",
       "      <td>717</td>\n",
       "    </tr>\n",
       "    <tr>\n",
       "      <th>4</th>\n",
       "      <td>2019-08-05</td>\n",
       "      <td>A</td>\n",
       "      <td>756</td>\n",
       "    </tr>\n",
       "    <tr>\n",
       "      <th>5</th>\n",
       "      <td>2019-08-06</td>\n",
       "      <td>A</td>\n",
       "      <td>667</td>\n",
       "    </tr>\n",
       "    <tr>\n",
       "      <th>6</th>\n",
       "      <td>2019-08-07</td>\n",
       "      <td>A</td>\n",
       "      <td>644</td>\n",
       "    </tr>\n",
       "    <tr>\n",
       "      <th>7</th>\n",
       "      <td>2019-08-08</td>\n",
       "      <td>A</td>\n",
       "      <td>610</td>\n",
       "    </tr>\n",
       "    <tr>\n",
       "      <th>8</th>\n",
       "      <td>2019-08-09</td>\n",
       "      <td>A</td>\n",
       "      <td>617</td>\n",
       "    </tr>\n",
       "    <tr>\n",
       "      <th>9</th>\n",
       "      <td>2019-08-10</td>\n",
       "      <td>A</td>\n",
       "      <td>406</td>\n",
       "    </tr>\n",
       "  </tbody>\n",
       "</table>\n",
       "</div>"
      ],
      "text/plain": [
       "         date group  visits\n",
       "0  2019-08-01     A     719\n",
       "1  2019-08-02     A     619\n",
       "2  2019-08-03     A     507\n",
       "3  2019-08-04     A     717\n",
       "4  2019-08-05     A     756\n",
       "5  2019-08-06     A     667\n",
       "6  2019-08-07     A     644\n",
       "7  2019-08-08     A     610\n",
       "8  2019-08-09     A     617\n",
       "9  2019-08-10     A     406"
      ]
     },
     "metadata": {},
     "output_type": "display_data"
    },
    {
     "data": {
      "text/plain": [
       "None"
      ]
     },
     "metadata": {},
     "output_type": "display_data"
    },
    {
     "data": {
      "text/html": [
       "<style  type=\"text/css\" >\n",
       "</style><table id=\"T_ce75cac8_35d2_11ec_a328_acde48001122\" ><thead>    <tr>        <th class=\"blank level0\" ></th>        <th class=\"col_heading level0 col0\" >missing</th>        <th class=\"col_heading level0 col1\" >total</th>        <th class=\"col_heading level0 col2\" >percent</th>    </tr></thead><tbody>\n",
       "                <tr>\n",
       "                        <th id=\"T_ce75cac8_35d2_11ec_a328_acde48001122level0_row0\" class=\"row_heading level0 row0\" >date</th>\n",
       "                        <td id=\"T_ce75cac8_35d2_11ec_a328_acde48001122row0_col0\" class=\"data row0 col0\" >0</td>\n",
       "                        <td id=\"T_ce75cac8_35d2_11ec_a328_acde48001122row0_col1\" class=\"data row0 col1\" >62</td>\n",
       "                        <td id=\"T_ce75cac8_35d2_11ec_a328_acde48001122row0_col2\" class=\"data row0 col2\" >0.00%</td>\n",
       "            </tr>\n",
       "            <tr>\n",
       "                        <th id=\"T_ce75cac8_35d2_11ec_a328_acde48001122level0_row1\" class=\"row_heading level0 row1\" >group</th>\n",
       "                        <td id=\"T_ce75cac8_35d2_11ec_a328_acde48001122row1_col0\" class=\"data row1 col0\" >0</td>\n",
       "                        <td id=\"T_ce75cac8_35d2_11ec_a328_acde48001122row1_col1\" class=\"data row1 col1\" >62</td>\n",
       "                        <td id=\"T_ce75cac8_35d2_11ec_a328_acde48001122row1_col2\" class=\"data row1 col2\" >0.00%</td>\n",
       "            </tr>\n",
       "            <tr>\n",
       "                        <th id=\"T_ce75cac8_35d2_11ec_a328_acde48001122level0_row2\" class=\"row_heading level0 row2\" >visits</th>\n",
       "                        <td id=\"T_ce75cac8_35d2_11ec_a328_acde48001122row2_col0\" class=\"data row2 col0\" >0</td>\n",
       "                        <td id=\"T_ce75cac8_35d2_11ec_a328_acde48001122row2_col1\" class=\"data row2 col1\" >62</td>\n",
       "                        <td id=\"T_ce75cac8_35d2_11ec_a328_acde48001122row2_col2\" class=\"data row2 col2\" >0.00%</td>\n",
       "            </tr>\n",
       "    </tbody></table>"
      ],
      "text/plain": [
       "<pandas.io.formats.style.Styler at 0x7feecd331d60>"
      ]
     },
     "metadata": {},
     "output_type": "display_data"
    },
    {
     "name": "stdout",
     "output_type": "stream",
     "text": [
      "\n",
      "for order dataset:\n",
      "\n",
      "<class 'pandas.core.frame.DataFrame'>\n",
      "RangeIndex: 1197 entries, 0 to 1196\n",
      "Data columns (total 5 columns):\n",
      " #   Column         Non-Null Count  Dtype  \n",
      "---  ------         --------------  -----  \n",
      " 0   transactionId  1197 non-null   int64  \n",
      " 1   visitorId      1197 non-null   int64  \n",
      " 2   date           1197 non-null   object \n",
      " 3   revenue        1197 non-null   float64\n",
      " 4   group          1197 non-null   object \n",
      "dtypes: float64(1), int64(2), object(2)\n",
      "memory usage: 46.9+ KB\n"
     ]
    },
    {
     "data": {
      "text/html": [
       "<div>\n",
       "<style scoped>\n",
       "    .dataframe tbody tr th:only-of-type {\n",
       "        vertical-align: middle;\n",
       "    }\n",
       "\n",
       "    .dataframe tbody tr th {\n",
       "        vertical-align: top;\n",
       "    }\n",
       "\n",
       "    .dataframe thead th {\n",
       "        text-align: right;\n",
       "    }\n",
       "</style>\n",
       "<table border=\"1\" class=\"dataframe\">\n",
       "  <thead>\n",
       "    <tr style=\"text-align: right;\">\n",
       "      <th></th>\n",
       "      <th>transactionId</th>\n",
       "      <th>visitorId</th>\n",
       "      <th>date</th>\n",
       "      <th>revenue</th>\n",
       "      <th>group</th>\n",
       "    </tr>\n",
       "  </thead>\n",
       "  <tbody>\n",
       "    <tr>\n",
       "      <th>0</th>\n",
       "      <td>3667963787</td>\n",
       "      <td>3312258926</td>\n",
       "      <td>2019-08-15</td>\n",
       "      <td>30.4</td>\n",
       "      <td>B</td>\n",
       "    </tr>\n",
       "    <tr>\n",
       "      <th>1</th>\n",
       "      <td>2804400009</td>\n",
       "      <td>3642806036</td>\n",
       "      <td>2019-08-15</td>\n",
       "      <td>15.2</td>\n",
       "      <td>B</td>\n",
       "    </tr>\n",
       "    <tr>\n",
       "      <th>2</th>\n",
       "      <td>2961555356</td>\n",
       "      <td>4069496402</td>\n",
       "      <td>2019-08-15</td>\n",
       "      <td>10.2</td>\n",
       "      <td>A</td>\n",
       "    </tr>\n",
       "    <tr>\n",
       "      <th>3</th>\n",
       "      <td>3797467345</td>\n",
       "      <td>1196621759</td>\n",
       "      <td>2019-08-15</td>\n",
       "      <td>155.1</td>\n",
       "      <td>B</td>\n",
       "    </tr>\n",
       "    <tr>\n",
       "      <th>4</th>\n",
       "      <td>2282983706</td>\n",
       "      <td>2322279887</td>\n",
       "      <td>2019-08-15</td>\n",
       "      <td>40.5</td>\n",
       "      <td>B</td>\n",
       "    </tr>\n",
       "    <tr>\n",
       "      <th>5</th>\n",
       "      <td>182168103</td>\n",
       "      <td>935554773</td>\n",
       "      <td>2019-08-15</td>\n",
       "      <td>35.0</td>\n",
       "      <td>B</td>\n",
       "    </tr>\n",
       "    <tr>\n",
       "      <th>6</th>\n",
       "      <td>398296753</td>\n",
       "      <td>2900797465</td>\n",
       "      <td>2019-08-15</td>\n",
       "      <td>30.6</td>\n",
       "      <td>B</td>\n",
       "    </tr>\n",
       "    <tr>\n",
       "      <th>7</th>\n",
       "      <td>2626614568</td>\n",
       "      <td>78758296</td>\n",
       "      <td>2019-08-15</td>\n",
       "      <td>20.1</td>\n",
       "      <td>A</td>\n",
       "    </tr>\n",
       "    <tr>\n",
       "      <th>8</th>\n",
       "      <td>1576988021</td>\n",
       "      <td>295230930</td>\n",
       "      <td>2019-08-15</td>\n",
       "      <td>215.9</td>\n",
       "      <td>A</td>\n",
       "    </tr>\n",
       "    <tr>\n",
       "      <th>9</th>\n",
       "      <td>1506739906</td>\n",
       "      <td>1882260405</td>\n",
       "      <td>2019-08-15</td>\n",
       "      <td>30.5</td>\n",
       "      <td>B</td>\n",
       "    </tr>\n",
       "  </tbody>\n",
       "</table>\n",
       "</div>"
      ],
      "text/plain": [
       "   transactionId   visitorId        date  revenue group\n",
       "0     3667963787  3312258926  2019-08-15     30.4     B\n",
       "1     2804400009  3642806036  2019-08-15     15.2     B\n",
       "2     2961555356  4069496402  2019-08-15     10.2     A\n",
       "3     3797467345  1196621759  2019-08-15    155.1     B\n",
       "4     2282983706  2322279887  2019-08-15     40.5     B\n",
       "5      182168103   935554773  2019-08-15     35.0     B\n",
       "6      398296753  2900797465  2019-08-15     30.6     B\n",
       "7     2626614568    78758296  2019-08-15     20.1     A\n",
       "8     1576988021   295230930  2019-08-15    215.9     A\n",
       "9     1506739906  1882260405  2019-08-15     30.5     B"
      ]
     },
     "metadata": {},
     "output_type": "display_data"
    },
    {
     "data": {
      "text/plain": [
       "None"
      ]
     },
     "metadata": {},
     "output_type": "display_data"
    },
    {
     "data": {
      "text/html": [
       "<style  type=\"text/css\" >\n",
       "</style><table id=\"T_ce794afe_35d2_11ec_a328_acde48001122\" ><thead>    <tr>        <th class=\"blank level0\" ></th>        <th class=\"col_heading level0 col0\" >missing</th>        <th class=\"col_heading level0 col1\" >total</th>        <th class=\"col_heading level0 col2\" >percent</th>    </tr></thead><tbody>\n",
       "                <tr>\n",
       "                        <th id=\"T_ce794afe_35d2_11ec_a328_acde48001122level0_row0\" class=\"row_heading level0 row0\" >transactionId</th>\n",
       "                        <td id=\"T_ce794afe_35d2_11ec_a328_acde48001122row0_col0\" class=\"data row0 col0\" >0</td>\n",
       "                        <td id=\"T_ce794afe_35d2_11ec_a328_acde48001122row0_col1\" class=\"data row0 col1\" >1,197</td>\n",
       "                        <td id=\"T_ce794afe_35d2_11ec_a328_acde48001122row0_col2\" class=\"data row0 col2\" >0.00%</td>\n",
       "            </tr>\n",
       "            <tr>\n",
       "                        <th id=\"T_ce794afe_35d2_11ec_a328_acde48001122level0_row1\" class=\"row_heading level0 row1\" >visitorId</th>\n",
       "                        <td id=\"T_ce794afe_35d2_11ec_a328_acde48001122row1_col0\" class=\"data row1 col0\" >0</td>\n",
       "                        <td id=\"T_ce794afe_35d2_11ec_a328_acde48001122row1_col1\" class=\"data row1 col1\" >1,197</td>\n",
       "                        <td id=\"T_ce794afe_35d2_11ec_a328_acde48001122row1_col2\" class=\"data row1 col2\" >0.00%</td>\n",
       "            </tr>\n",
       "            <tr>\n",
       "                        <th id=\"T_ce794afe_35d2_11ec_a328_acde48001122level0_row2\" class=\"row_heading level0 row2\" >date</th>\n",
       "                        <td id=\"T_ce794afe_35d2_11ec_a328_acde48001122row2_col0\" class=\"data row2 col0\" >0</td>\n",
       "                        <td id=\"T_ce794afe_35d2_11ec_a328_acde48001122row2_col1\" class=\"data row2 col1\" >1,197</td>\n",
       "                        <td id=\"T_ce794afe_35d2_11ec_a328_acde48001122row2_col2\" class=\"data row2 col2\" >0.00%</td>\n",
       "            </tr>\n",
       "            <tr>\n",
       "                        <th id=\"T_ce794afe_35d2_11ec_a328_acde48001122level0_row3\" class=\"row_heading level0 row3\" >revenue</th>\n",
       "                        <td id=\"T_ce794afe_35d2_11ec_a328_acde48001122row3_col0\" class=\"data row3 col0\" >0</td>\n",
       "                        <td id=\"T_ce794afe_35d2_11ec_a328_acde48001122row3_col1\" class=\"data row3 col1\" >1,197</td>\n",
       "                        <td id=\"T_ce794afe_35d2_11ec_a328_acde48001122row3_col2\" class=\"data row3 col2\" >0.00%</td>\n",
       "            </tr>\n",
       "            <tr>\n",
       "                        <th id=\"T_ce794afe_35d2_11ec_a328_acde48001122level0_row4\" class=\"row_heading level0 row4\" >group</th>\n",
       "                        <td id=\"T_ce794afe_35d2_11ec_a328_acde48001122row4_col0\" class=\"data row4 col0\" >0</td>\n",
       "                        <td id=\"T_ce794afe_35d2_11ec_a328_acde48001122row4_col1\" class=\"data row4 col1\" >1,197</td>\n",
       "                        <td id=\"T_ce794afe_35d2_11ec_a328_acde48001122row4_col2\" class=\"data row4 col2\" >0.00%</td>\n",
       "            </tr>\n",
       "    </tbody></table>"
      ],
      "text/plain": [
       "<pandas.io.formats.style.Styler at 0x7feecec2fa60>"
      ]
     },
     "metadata": {},
     "output_type": "display_data"
    }
   ],
   "source": [
    "# Getting familiar with the dataset\n",
    "\n",
    "print('for visits dataset:')\n",
    "print()\n",
    "display(visits.head(10), visits.info(), visits.stb.missing(style= True))\n",
    "print()\n",
    "print('for order dataset:')\n",
    "print()\n",
    "display(orders.head(10), orders.info(), orders.stb.missing(style=True))\n",
    "\n",
    "\n"
   ]
  },
  {
   "cell_type": "markdown",
   "metadata": {},
   "source": [
    "No missing values are found"
   ]
  },
  {
   "cell_type": "markdown",
   "metadata": {},
   "source": [
    " "
   ]
  },
  {
   "cell_type": "code",
   "execution_count": 109,
   "metadata": {},
   "outputs": [
    {
     "name": "stdout",
     "output_type": "stream",
     "text": [
      "<class 'pandas.core.frame.DataFrame'>\n",
      "Int64Index: 62 entries, 0 to 61\n",
      "Data columns (total 3 columns):\n",
      " #   Column  Non-Null Count  Dtype         \n",
      "---  ------  --------------  -----         \n",
      " 0   date    62 non-null     datetime64[ns]\n",
      " 1   group   62 non-null     object        \n",
      " 2   visits  62 non-null     int64         \n",
      "dtypes: datetime64[ns](1), int64(1), object(1)\n",
      "memory usage: 1.9+ KB\n",
      "<class 'pandas.core.frame.DataFrame'>\n",
      "Int64Index: 1197 entries, 0 to 1196\n",
      "Data columns (total 5 columns):\n",
      " #   Column         Non-Null Count  Dtype         \n",
      "---  ------         --------------  -----         \n",
      " 0   transactionId  1197 non-null   object        \n",
      " 1   visitorId      1197 non-null   object        \n",
      " 2   date           1197 non-null   datetime64[ns]\n",
      " 3   revenue        1197 non-null   float64       \n",
      " 4   group          1197 non-null   object        \n",
      "dtypes: datetime64[ns](1), float64(1), object(3)\n",
      "memory usage: 56.1+ KB\n"
     ]
    },
    {
     "data": {
      "text/plain": [
       "None"
      ]
     },
     "metadata": {},
     "output_type": "display_data"
    },
    {
     "data": {
      "text/plain": [
       "None"
      ]
     },
     "metadata": {},
     "output_type": "display_data"
    }
   ],
   "source": [
    "# Data Preprocessing\n",
    "\n",
    "visits['date'] = visits['date'].astype('datetime64[D]')\n",
    "orders['date'] = orders['date'].astype('datetime64[D]')\n",
    "\n",
    "orders[['transactionId','visitorId']] = orders[['transactionId','visitorId']].astype('str')\n",
    "\n",
    "visits = visits.drop_duplicates()\n",
    "#visits = visits.dropna()\n",
    "\n",
    "orders = orders.drop_duplicates()\n",
    "#orders = orders.dropna()\n",
    "\n",
    "\n",
    "\n",
    "display(visits.info(),orders.info())"
   ]
  },
  {
   "cell_type": "markdown",
   "metadata": {},
   "source": [
    "---\n",
    "[back to: chapter start](#DPP1) | [back to: table of content](#toc)"
   ]
  },
  {
   "cell_type": "markdown",
   "metadata": {},
   "source": [
    " "
   ]
  },
  {
   "cell_type": "markdown",
   "metadata": {},
   "source": [
    " "
   ]
  },
  {
   "cell_type": "markdown",
   "metadata": {},
   "source": [
    " "
   ]
  },
  {
   "cell_type": "markdown",
   "metadata": {},
   "source": [
    "### 2. Exploratory data analysis\n",
    "<a id='eda'></a>\n",
    "<a id='eda1'></a>"
   ]
  },
  {
   "cell_type": "markdown",
   "metadata": {},
   "source": [
    "[2.1 Graph cumulative revenue by group](#21)<br>\n",
    "[2.2 Graph cumulative average order size by group](#22)<br>\n",
    "[2.3 Graph the relative difference in cumulative average order size for group B compared with group A](#23)<br>\n",
    "[2.4 Calculate each group's conversion rate as the ratio of orders to the number of visits for each day](#24)<br>\n",
    "[2.5 Scatter chart of the number of orders per user](#25)<br>\n",
    "[2.6 Calculate the 95th and 99th percentiles for the number of orders per user](#26)<br>\n",
    "[2.7 Scatter chart of order prices](#27)<br>\n",
    "[2.8 Calculate the 95th and 99th percentiles of order prices](#28)<br>"
   ]
  },
  {
   "cell_type": "markdown",
   "metadata": {},
   "source": [
    " "
   ]
  },
  {
   "cell_type": "markdown",
   "metadata": {},
   "source": [
    " "
   ]
  },
  {
   "cell_type": "markdown",
   "metadata": {},
   "source": [
    " "
   ]
  },
  {
   "cell_type": "markdown",
   "metadata": {},
   "source": [
    "### 2.1 Graph cumulative revenue by group\n",
    "<a id='21'></a>"
   ]
  },
  {
   "cell_type": "code",
   "execution_count": 140,
   "metadata": {
    "scrolled": false
   },
   "outputs": [
    {
     "data": {
      "image/png": "[encoded data removed]",
      "text/plain": [
       "<Figure size 1152x360 with 1 Axes>"
      ]
     },
     "metadata": {
      "needs_background": "light"
     },
     "output_type": "display_data"
    },
    {
     "data": {
      "text/html": [
       "<div>\n",
       "<style scoped>\n",
       "    .dataframe tbody tr th:only-of-type {\n",
       "        vertical-align: middle;\n",
       "    }\n",
       "\n",
       "    .dataframe tbody tr th {\n",
       "        vertical-align: top;\n",
       "    }\n",
       "\n",
       "    .dataframe thead th {\n",
       "        text-align: right;\n",
       "    }\n",
       "</style>\n",
       "<table border=\"1\" class=\"dataframe\">\n",
       "  <thead>\n",
       "    <tr style=\"text-align: right;\">\n",
       "      <th></th>\n",
       "      <th>date</th>\n",
       "      <th>group</th>\n",
       "      <th>revenue</th>\n",
       "    </tr>\n",
       "  </thead>\n",
       "  <tbody>\n",
       "    <tr>\n",
       "      <th>0</th>\n",
       "      <td>2019-08-01</td>\n",
       "      <td>A</td>\n",
       "      <td>2356.8</td>\n",
       "    </tr>\n",
       "    <tr>\n",
       "      <th>1</th>\n",
       "      <td>2019-08-01</td>\n",
       "      <td>B</td>\n",
       "      <td>1620.0</td>\n",
       "    </tr>\n",
       "    <tr>\n",
       "      <th>2</th>\n",
       "      <td>2019-08-02</td>\n",
       "      <td>A</td>\n",
       "      <td>3860.3</td>\n",
       "    </tr>\n",
       "    <tr>\n",
       "      <th>3</th>\n",
       "      <td>2019-08-02</td>\n",
       "      <td>B</td>\n",
       "      <td>4243.8</td>\n",
       "    </tr>\n",
       "    <tr>\n",
       "      <th>4</th>\n",
       "      <td>2019-08-03</td>\n",
       "      <td>A</td>\n",
       "      <td>5675.5</td>\n",
       "    </tr>\n",
       "    <tr>\n",
       "      <th>...</th>\n",
       "      <td>...</td>\n",
       "      <td>...</td>\n",
       "      <td>...</td>\n",
       "    </tr>\n",
       "    <tr>\n",
       "      <th>57</th>\n",
       "      <td>2019-08-29</td>\n",
       "      <td>B</td>\n",
       "      <td>87343.0</td>\n",
       "    </tr>\n",
       "    <tr>\n",
       "      <th>58</th>\n",
       "      <td>2019-08-30</td>\n",
       "      <td>A</td>\n",
       "      <td>63563.5</td>\n",
       "    </tr>\n",
       "    <tr>\n",
       "      <th>59</th>\n",
       "      <td>2019-08-30</td>\n",
       "      <td>B</td>\n",
       "      <td>90736.3</td>\n",
       "    </tr>\n",
       "    <tr>\n",
       "      <th>60</th>\n",
       "      <td>2019-08-31</td>\n",
       "      <td>A</td>\n",
       "      <td>64554.9</td>\n",
       "    </tr>\n",
       "    <tr>\n",
       "      <th>61</th>\n",
       "      <td>2019-08-31</td>\n",
       "      <td>B</td>\n",
       "      <td>92840.6</td>\n",
       "    </tr>\n",
       "  </tbody>\n",
       "</table>\n",
       "<p>62 rows × 3 columns</p>\n",
       "</div>"
      ],
      "text/plain": [
       "         date group  revenue\n",
       "0  2019-08-01     A   2356.8\n",
       "1  2019-08-01     B   1620.0\n",
       "2  2019-08-02     A   3860.3\n",
       "3  2019-08-02     B   4243.8\n",
       "4  2019-08-03     A   5675.5\n",
       "..        ...   ...      ...\n",
       "57 2019-08-29     B  87343.0\n",
       "58 2019-08-30     A  63563.5\n",
       "59 2019-08-30     B  90736.3\n",
       "60 2019-08-31     A  64554.9\n",
       "61 2019-08-31     B  92840.6\n",
       "\n",
       "[62 rows x 3 columns]"
      ]
     },
     "metadata": {},
     "output_type": "display_data"
    }
   ],
   "source": [
    "group_dates = orders[['date','group']].copy()\n",
    "group_dates = group_dates.drop_duplicates()\n",
    "\n",
    "ordersAgg = group_dates.apply(\n",
    "    lambda x: orders[np.logical_and(orders['date'] <= x['date'], orders['group'] == x['group'])]\n",
    "    .agg({'date' : 'max', \n",
    "          'group' : 'max', \n",
    "          'transactionId' : pd.Series.nunique, \n",
    "          'visitorId' : pd.Series.nunique, \n",
    "          'revenue' : 'sum'}), axis= 1).sort_values(by= ['date','group'])\n",
    "ordersAgg = ordersAgg.rename(columns= {'transactionId':'orders', 'visitorId':'buyers'})\n",
    "\n",
    "visitsAgg = group_dates.apply(\n",
    "    lambda x: visits[np.logical_and(visits['date'] <= x['date'], visits['group'] == x['group'])]\n",
    "    .agg({'date' : 'max',\n",
    "          'group' : 'max',\n",
    "          'visits' : 'sum'}), axis= 1).sort_values(by=['date','group'])\n",
    "\n",
    "cumulativeData = ordersAgg.merge(visitsAgg, left_on= ['date', 'group'],  right_on= ['date','group'])\n",
    "cumulativeData.columns = ['date','group','orders','buyers','revenue','visitors']\n",
    "#\n",
    "\n",
    "cumRevenueA = cumulativeData[cumulativeData['group'] == 'A'][['date','revenue','orders']]\n",
    "cumRevenueB = cumulativeData[cumulativeData['group'] == 'B'][['date','revenue','orders']]\n",
    "\n",
    "\n",
    "plt.figure(figsize= (16,5))\n",
    "\n",
    "plt.plot(cumRevenueA['date'], cumRevenueA['revenue'], label= 'A')\n",
    "plt.plot(cumRevenueB['date'], cumRevenueB['revenue'], label= 'B')\n",
    "\n",
    "plt.legend()\n",
    "plt.title('Cumulative Revenue by Group over Time', size= 22)\n",
    "plt.xlabel('Time', size= 16)\n",
    "plt.ylabel('Cumulative Revenue in USD', size= 16)\n",
    "plt.xticks(rotation= 45)\n",
    "plt.grid()\n",
    "plt.show()\n",
    "\n",
    "display(cumulativeData[['date','group','revenue']])\n",
    "\n",
    "#display(ordersAgg, visitsAgg)\n",
    "#display(group_dates, group_dates.drop_duplicates())"
   ]
  },
  {
   "cell_type": "markdown",
   "metadata": {},
   "source": [
    "As we can see from the chart above, the cumulative revenue keeps on increasing for both groups but after 17th of  August, there is a peak in revenue for group B. After that also group B keeps higher increase in revenue as compare to group A."
   ]
  },
  {
   "cell_type": "markdown",
   "metadata": {},
   "source": [
    " "
   ]
  },
  {
   "cell_type": "markdown",
   "metadata": {},
   "source": [
    " "
   ]
  },
  {
   "cell_type": "markdown",
   "metadata": {},
   "source": [
    " "
   ]
  },
  {
   "cell_type": "markdown",
   "metadata": {},
   "source": [
    "### 2.2 Graph cumulative average order size by group\n",
    "<a id='22'></a>"
   ]
  },
  {
   "cell_type": "code",
   "execution_count": 141,
   "metadata": {},
   "outputs": [
    {
     "data": {
      "image/png": "[encoded data removed]",
      "text/plain": [
       "<Figure size 1152x360 with 1 Axes>"
      ]
     },
     "metadata": {
      "needs_background": "light"
     },
     "output_type": "display_data"
    }
   ],
   "source": [
    "plt.figure(figsize=(16,5))\n",
    "\n",
    "plt.plot(cumRevenueA['date'], cumRevenueA['revenue']/cumRevenueA['orders'], label= 'A')\n",
    "plt.plot(cumRevenueB['date'], cumRevenueB['revenue']/cumRevenueB['orders'], label= 'B')\n",
    "\n",
    "plt.legend()\n",
    "plt.title('Cumulative Revenue by Group over Time', size= 22)\n",
    "plt.xlabel('Time', size= 16)\n",
    "plt.ylabel('Cumulative Revenue in USD', size= 16)\n",
    "plt.xticks(rotation= 45)\n",
    "plt.grid()\n",
    "plt.show()"
   ]
  },
  {
   "cell_type": "markdown",
   "metadata": {},
   "source": [
    "Group B cumulative average sales drastically increase after 17th of August, this might have been due to the presence of large, expensive orders. It's decreasing at later stage, however, it's cumulative revevue is still increasing. <br>\n",
    "Also Group A average sales increase in the first quarter but later it becomes steady. <br>\n",
    "At the end, both group's cumulative average sales become steady."
   ]
  },
  {
   "cell_type": "markdown",
   "metadata": {},
   "source": [
    " "
   ]
  },
  {
   "cell_type": "markdown",
   "metadata": {},
   "source": [
    " "
   ]
  },
  {
   "cell_type": "markdown",
   "metadata": {},
   "source": [
    "### 2.3  Graph the relative difference in cumulative average order size for group B compared with group A\n",
    "<a id='23'></a>"
   ]
  },
  {
   "cell_type": "code",
   "execution_count": 142,
   "metadata": {},
   "outputs": [],
   "source": [
    "mergedCumRevenue = cumRevenueA.merge(cumRevenueB, left_on='date', right_on='date', how='left', suffixes= ['A', 'B'])\n",
    "# display(mergedCumRevenue)"
   ]
  },
  {
   "cell_type": "code",
   "execution_count": 229,
   "metadata": {},
   "outputs": [
    {
     "data": {
      "image/png": "[encoded data removed]",
      "text/plain": [
       "<Figure size 1152x360 with 1 Axes>"
      ]
     },
     "metadata": {
      "needs_background": "light"
     },
     "output_type": "display_data"
    }
   ],
   "source": [
    "# plotting a relative difference graph for the average purchase sizes\n",
    "plt.figure(figsize= (16,5))\n",
    "\n",
    "plt.plot(mergedCumRevenue['date'], (mergedCumRevenue['revenueB']/mergedCumRevenue['ordersB'])/(mergedCumRevenue['revenueA']/mergedCumRevenue['ordersA'])-1)\n",
    "\n",
    "# adding the X axis\n",
    "plt.axhline(y= 0, color= 'black', linestyle= '--', alpha= .5) \n",
    "plt.title('Relative difference in cumulative average order size for group B compared with group A', size= 18)\n",
    "plt.xlabel('Time', size= 12)\n",
    "plt.ylabel('Difference in order from group B to group A', size= 12)\n",
    "plt.xticks(rotation= 45)\n",
    "plt.show()"
   ]
  },
  {
   "cell_type": "markdown",
   "metadata": {},
   "source": [
    "We can see from the graph above the relative difference in cumulative average order size for group B, compared with group A is sudden become high after 17th of August but later it starts to decline and at the end it becomes steady."
   ]
  },
  {
   "cell_type": "markdown",
   "metadata": {},
   "source": [
    " "
   ]
  },
  {
   "cell_type": "markdown",
   "metadata": {},
   "source": [
    " "
   ]
  },
  {
   "cell_type": "markdown",
   "metadata": {},
   "source": [
    " "
   ]
  },
  {
   "cell_type": "markdown",
   "metadata": {},
   "source": [
    "### 2.4 Calculate each group's conversion rate as the ratio of orders to the number of visits for each day\n",
    "<a id='24'></a>"
   ]
  },
  {
   "cell_type": "code",
   "execution_count": 228,
   "metadata": {},
   "outputs": [],
   "source": [
    "# display(ordersAgg.merge(visitsAgg, left_on=['date', 'group'], right_on=['date', 'group']))\n",
    "# display(ordersAgg)"
   ]
  },
  {
   "cell_type": "code",
   "execution_count": 227,
   "metadata": {},
   "outputs": [
    {
     "data": {
      "image/png": "[encoded data removed]",
      "text/plain": [
       "<Figure size 1152x360 with 1 Axes>"
      ]
     },
     "metadata": {
      "needs_background": "light"
     },
     "output_type": "display_data"
    },
    {
     "data": {
      "text/html": [
       "<div>\n",
       "<style scoped>\n",
       "    .dataframe tbody tr th:only-of-type {\n",
       "        vertical-align: middle;\n",
       "    }\n",
       "\n",
       "    .dataframe tbody tr th {\n",
       "        vertical-align: top;\n",
       "    }\n",
       "\n",
       "    .dataframe thead th {\n",
       "        text-align: right;\n",
       "    }\n",
       "</style>\n",
       "<table border=\"1\" class=\"dataframe\">\n",
       "  <thead>\n",
       "    <tr style=\"text-align: right;\">\n",
       "      <th></th>\n",
       "      <th>date</th>\n",
       "      <th>group</th>\n",
       "      <th>orders</th>\n",
       "      <th>buyers</th>\n",
       "      <th>revenue</th>\n",
       "      <th>visits</th>\n",
       "      <th>conversion</th>\n",
       "    </tr>\n",
       "  </thead>\n",
       "  <tbody>\n",
       "    <tr>\n",
       "      <th>0</th>\n",
       "      <td>2019-08-01</td>\n",
       "      <td>A</td>\n",
       "      <td>24</td>\n",
       "      <td>20</td>\n",
       "      <td>2356.8</td>\n",
       "      <td>719</td>\n",
       "      <td>0.033380</td>\n",
       "    </tr>\n",
       "    <tr>\n",
       "      <th>1</th>\n",
       "      <td>2019-08-01</td>\n",
       "      <td>B</td>\n",
       "      <td>21</td>\n",
       "      <td>20</td>\n",
       "      <td>1620.0</td>\n",
       "      <td>713</td>\n",
       "      <td>0.029453</td>\n",
       "    </tr>\n",
       "    <tr>\n",
       "      <th>2</th>\n",
       "      <td>2019-08-02</td>\n",
       "      <td>A</td>\n",
       "      <td>44</td>\n",
       "      <td>38</td>\n",
       "      <td>3860.3</td>\n",
       "      <td>1338</td>\n",
       "      <td>0.032885</td>\n",
       "    </tr>\n",
       "    <tr>\n",
       "      <th>3</th>\n",
       "      <td>2019-08-02</td>\n",
       "      <td>B</td>\n",
       "      <td>45</td>\n",
       "      <td>43</td>\n",
       "      <td>4243.8</td>\n",
       "      <td>1294</td>\n",
       "      <td>0.034776</td>\n",
       "    </tr>\n",
       "    <tr>\n",
       "      <th>4</th>\n",
       "      <td>2019-08-03</td>\n",
       "      <td>A</td>\n",
       "      <td>68</td>\n",
       "      <td>62</td>\n",
       "      <td>5675.5</td>\n",
       "      <td>1845</td>\n",
       "      <td>0.036856</td>\n",
       "    </tr>\n",
       "    <tr>\n",
       "      <th>...</th>\n",
       "      <td>...</td>\n",
       "      <td>...</td>\n",
       "      <td>...</td>\n",
       "      <td>...</td>\n",
       "      <td>...</td>\n",
       "      <td>...</td>\n",
       "      <td>...</td>\n",
       "    </tr>\n",
       "    <tr>\n",
       "      <th>57</th>\n",
       "      <td>2019-08-29</td>\n",
       "      <td>B</td>\n",
       "      <td>596</td>\n",
       "      <td>544</td>\n",
       "      <td>87343.0</td>\n",
       "      <td>17708</td>\n",
       "      <td>0.033657</td>\n",
       "    </tr>\n",
       "    <tr>\n",
       "      <th>58</th>\n",
       "      <td>2019-08-30</td>\n",
       "      <td>A</td>\n",
       "      <td>545</td>\n",
       "      <td>493</td>\n",
       "      <td>63563.5</td>\n",
       "      <td>18037</td>\n",
       "      <td>0.030216</td>\n",
       "    </tr>\n",
       "    <tr>\n",
       "      <th>59</th>\n",
       "      <td>2019-08-30</td>\n",
       "      <td>B</td>\n",
       "      <td>620</td>\n",
       "      <td>567</td>\n",
       "      <td>90736.3</td>\n",
       "      <td>18198</td>\n",
       "      <td>0.034070</td>\n",
       "    </tr>\n",
       "    <tr>\n",
       "      <th>60</th>\n",
       "      <td>2019-08-31</td>\n",
       "      <td>A</td>\n",
       "      <td>557</td>\n",
       "      <td>503</td>\n",
       "      <td>64554.9</td>\n",
       "      <td>18736</td>\n",
       "      <td>0.029729</td>\n",
       "    </tr>\n",
       "    <tr>\n",
       "      <th>61</th>\n",
       "      <td>2019-08-31</td>\n",
       "      <td>B</td>\n",
       "      <td>640</td>\n",
       "      <td>586</td>\n",
       "      <td>92840.6</td>\n",
       "      <td>18916</td>\n",
       "      <td>0.033834</td>\n",
       "    </tr>\n",
       "  </tbody>\n",
       "</table>\n",
       "<p>62 rows × 7 columns</p>\n",
       "</div>"
      ],
      "text/plain": [
       "         date group  orders  buyers  revenue  visits  conversion\n",
       "0  2019-08-01     A      24      20   2356.8     719    0.033380\n",
       "1  2019-08-01     B      21      20   1620.0     713    0.029453\n",
       "2  2019-08-02     A      44      38   3860.3    1338    0.032885\n",
       "3  2019-08-02     B      45      43   4243.8    1294    0.034776\n",
       "4  2019-08-03     A      68      62   5675.5    1845    0.036856\n",
       "..        ...   ...     ...     ...      ...     ...         ...\n",
       "57 2019-08-29     B     596     544  87343.0   17708    0.033657\n",
       "58 2019-08-30     A     545     493  63563.5   18037    0.030216\n",
       "59 2019-08-30     B     620     567  90736.3   18198    0.034070\n",
       "60 2019-08-31     A     557     503  64554.9   18736    0.029729\n",
       "61 2019-08-31     B     640     586  92840.6   18916    0.033834\n",
       "\n",
       "[62 rows x 7 columns]"
      ]
     },
     "metadata": {},
     "output_type": "display_data"
    }
   ],
   "source": [
    "# Merging order and visit table and then caculate conversion.\n",
    "orders_vists_cum_data = ordersAgg.merge(visitsAgg, left_on= ['date', 'group'], right_on= ['date', 'group'])\n",
    "orders_vists_cum_data['conversion'] = orders_vists_cum_data['orders']/orders_vists_cum_data['visits']\n",
    "\n",
    "\n",
    "\n",
    "# selecting data on group A \n",
    "orders_vists_cum_data_A = orders_vists_cum_data[orders_vists_cum_data['group']=='A']\n",
    "\n",
    "# selecting data on group B\n",
    "orders_vists_cum_data_B = orders_vists_cum_data[orders_vists_cum_data['group']=='B']\n",
    "\n",
    "#set the figure size\n",
    "plt.figure(figsize= (16,5))\n",
    "\n",
    "# plotting the graphs\n",
    "plt.plot(orders_vists_cum_data_A['date'], orders_vists_cum_data_A['conversion'], label='A')\n",
    "plt.plot(orders_vists_cum_data_B['date'], orders_vists_cum_data_B['conversion'], label='B')\n",
    "plt.legend()\n",
    "\n",
    "plt.title('Conversion ratio for Group A and B', size= 22)\n",
    "plt.xlabel('Date', size= 18)\n",
    "plt.ylabel('Conversion Ratio', size= 18)\n",
    "plt.xticks(rotation= 45)\n",
    "plt.grid()\n",
    "plt.show()\n",
    "\n",
    "display(orders_vists_cum_data)"
   ]
  },
  {
   "cell_type": "markdown",
   "metadata": {},
   "source": [
    "Conversion ratio for both group increase drastically initially and then decrease but after 8 of May for Group B again it starts to increase and fluctuate among some interval. Speaking of Group A, it decreases and fluctuate among some interval, but in a more soften manner.\n",
    "\n",
    "Overall Group A conversion is low as compare to Group B. In addition, it does not seems to be stabilize till the end so it might be too early to draw conclusions about the test. In this case, first we can have a look at the anomalies, they might change the picture in some way."
   ]
  },
  {
   "cell_type": "markdown",
   "metadata": {},
   "source": [
    " "
   ]
  },
  {
   "cell_type": "markdown",
   "metadata": {},
   "source": [
    " "
   ]
  },
  {
   "cell_type": "markdown",
   "metadata": {},
   "source": [
    " "
   ]
  },
  {
   "cell_type": "markdown",
   "metadata": {},
   "source": [
    "### 2.5 Scatter chart of the number of orders per user\n",
    "<a id='25'></a>"
   ]
  },
  {
   "cell_type": "code",
   "execution_count": 225,
   "metadata": {},
   "outputs": [
    {
     "data": {
      "image/png": "[encoded data removed]",
      "text/plain": [
       "<Figure size 1080x432 with 1 Axes>"
      ]
     },
     "metadata": {
      "needs_background": "light"
     },
     "output_type": "display_data"
    },
    {
     "data": {
      "text/html": [
       "<div>\n",
       "<style scoped>\n",
       "    .dataframe tbody tr th:only-of-type {\n",
       "        vertical-align: middle;\n",
       "    }\n",
       "\n",
       "    .dataframe tbody tr th {\n",
       "        vertical-align: top;\n",
       "    }\n",
       "\n",
       "    .dataframe thead th {\n",
       "        text-align: right;\n",
       "    }\n",
       "</style>\n",
       "<table border=\"1\" class=\"dataframe\">\n",
       "  <thead>\n",
       "    <tr style=\"text-align: right;\">\n",
       "      <th></th>\n",
       "      <th>users</th>\n",
       "      <th>orders</th>\n",
       "    </tr>\n",
       "  </thead>\n",
       "  <tbody>\n",
       "    <tr>\n",
       "      <th>0</th>\n",
       "      <td>4256040402</td>\n",
       "      <td>11</td>\n",
       "    </tr>\n",
       "    <tr>\n",
       "      <th>1</th>\n",
       "      <td>2458001652</td>\n",
       "      <td>11</td>\n",
       "    </tr>\n",
       "    <tr>\n",
       "      <th>2</th>\n",
       "      <td>2378935119</td>\n",
       "      <td>9</td>\n",
       "    </tr>\n",
       "    <tr>\n",
       "      <th>3</th>\n",
       "      <td>2038680547</td>\n",
       "      <td>8</td>\n",
       "    </tr>\n",
       "    <tr>\n",
       "      <th>4</th>\n",
       "      <td>3062433592</td>\n",
       "      <td>5</td>\n",
       "    </tr>\n",
       "    <tr>\n",
       "      <th>5</th>\n",
       "      <td>3803269165</td>\n",
       "      <td>5</td>\n",
       "    </tr>\n",
       "    <tr>\n",
       "      <th>6</th>\n",
       "      <td>3717692402</td>\n",
       "      <td>5</td>\n",
       "    </tr>\n",
       "    <tr>\n",
       "      <th>7</th>\n",
       "      <td>237748145</td>\n",
       "      <td>5</td>\n",
       "    </tr>\n",
       "    <tr>\n",
       "      <th>8</th>\n",
       "      <td>1230306981</td>\n",
       "      <td>5</td>\n",
       "    </tr>\n",
       "    <tr>\n",
       "      <th>9</th>\n",
       "      <td>199603092</td>\n",
       "      <td>5</td>\n",
       "    </tr>\n",
       "    <tr>\n",
       "      <th>10</th>\n",
       "      <td>457167155</td>\n",
       "      <td>4</td>\n",
       "    </tr>\n",
       "    <tr>\n",
       "      <th>11</th>\n",
       "      <td>2587333274</td>\n",
       "      <td>4</td>\n",
       "    </tr>\n",
       "    <tr>\n",
       "      <th>12</th>\n",
       "      <td>1614305549</td>\n",
       "      <td>4</td>\n",
       "    </tr>\n",
       "    <tr>\n",
       "      <th>13</th>\n",
       "      <td>4186807279</td>\n",
       "      <td>3</td>\n",
       "    </tr>\n",
       "    <tr>\n",
       "      <th>14</th>\n",
       "      <td>1294878855</td>\n",
       "      <td>3</td>\n",
       "    </tr>\n",
       "  </tbody>\n",
       "</table>\n",
       "</div>"
      ],
      "text/plain": [
       "         users  orders\n",
       "0   4256040402      11\n",
       "1   2458001652      11\n",
       "2   2378935119       9\n",
       "3   2038680547       8\n",
       "4   3062433592       5\n",
       "5   3803269165       5\n",
       "6   3717692402       5\n",
       "7    237748145       5\n",
       "8   1230306981       5\n",
       "9    199603092       5\n",
       "10   457167155       4\n",
       "11  2587333274       4\n",
       "12  1614305549       4\n",
       "13  4186807279       3\n",
       "14  1294878855       3"
      ]
     },
     "metadata": {},
     "output_type": "display_data"
    }
   ],
   "source": [
    "orders_per_users = orders.groupby('visitorId').agg({'transactionId': pd.Series.nunique}).sort_values(by='transactionId', ascending=False).reset_index()\n",
    "orders_per_users.columns = ['users','orders']\n",
    "\n",
    "plt.figure(figsize= (15,6))\n",
    "\n",
    "xVal = range(0, len(orders_per_users))\n",
    "\n",
    "cateVal = 0\n",
    "categories = [0 for i in range(0, len(orders_per_users))] # declaring category array and setting default value as 0.\n",
    "for i in range(0, len(orders_per_users)):\n",
    "    cateVal = cateVal+1\n",
    "    if (cateVal>2):\n",
    "        cateVal = 0\n",
    "    categories[i] = cateVal\n",
    "colormap = np.array(['r', 'g', 'b'])\n",
    "\n",
    "plt.scatter(xVal, orders_per_users['orders'], c= colormap[categories])\n",
    "\n",
    "plt.title('Scatter chart of the number of orders per user', size= 22)\n",
    "plt.xlabel('Users', size= 18)\n",
    "plt.ylabel('n orders', size= 18)\n",
    "#plt.vlines(15, \n",
    "#           linestyles= 'dashed', \n",
    "#           colors= 'grey', \n",
    "#           alpha= 0.5, \n",
    "#           ymin= 0, \n",
    "#           ymax= 12, \n",
    "#           label= 'Users with at 4 orders')\n",
    "\n",
    "plt.axes()\n",
    "rectangle = plt.Rectangle((0,4),15,8, fc= 'green', alpha= 0.2,label= 'Users with at least 4 orders')\n",
    "plt.gca().add_patch(rectangle)\n",
    "plt.legend()\n",
    "plt.show()\n",
    "\n",
    "display(orders_per_users.head(15))"
   ]
  },
  {
   "cell_type": "markdown",
   "metadata": {},
   "source": [
    "The above graph shows ***n*** orders per user. As we can see from the above graph, most of the users order between 1 and 2 and very few of them order above 4."
   ]
  },
  {
   "cell_type": "markdown",
   "metadata": {},
   "source": [
    " "
   ]
  },
  {
   "cell_type": "markdown",
   "metadata": {},
   "source": [
    " "
   ]
  },
  {
   "cell_type": "markdown",
   "metadata": {},
   "source": [
    " "
   ]
  },
  {
   "cell_type": "markdown",
   "metadata": {},
   "source": [
    "### 2.6 Calculate the 95th and 99th percentiles for the number of orders per user\n",
    "<a id='26'></a>"
   ]
  },
  {
   "cell_type": "code",
   "execution_count": 179,
   "metadata": {},
   "outputs": [
    {
     "name": "stdout",
     "output_type": "stream",
     "text": [
      "Number of order per user in percentiles - [95, 99]: [2. 4.]\n"
     ]
    }
   ],
   "source": [
    "print(f'Number of order per user in percentiles - [95, 99]: {np.percentile(orders_per_users.orders, [95, 99])}')"
   ]
  },
  {
   "cell_type": "markdown",
   "metadata": {},
   "source": [
    "Not more than `5%` of users placed more than 2 orders, and only `1%` of users made more than 4 orders. On this point forward, we'll using thoses percentiles, so we are able to define the points at which a data point becomes an anomaly like `1%` in this particular case."
   ]
  },
  {
   "cell_type": "markdown",
   "metadata": {},
   "source": [
    " "
   ]
  },
  {
   "cell_type": "markdown",
   "metadata": {},
   "source": [
    " "
   ]
  },
  {
   "cell_type": "markdown",
   "metadata": {},
   "source": [
    "  "
   ]
  },
  {
   "cell_type": "markdown",
   "metadata": {},
   "source": [
    "### 2.7 Scatter chart of order prices\n",
    "<a id='27'></a>"
   ]
  },
  {
   "cell_type": "code",
   "execution_count": 224,
   "metadata": {},
   "outputs": [
    {
     "data": {
      "image/png": "[encoded data removed]",
      "text/plain": [
       "<Figure size 1080x432 with 1 Axes>"
      ]
     },
     "metadata": {
      "needs_background": "light"
     },
     "output_type": "display_data"
    }
   ],
   "source": [
    "revenue_per_users = orders.groupby('visitorId').agg({'revenue':'sum'}).sort_values(by='revenue', ascending=False).reset_index()\n",
    "revenue_per_users.columns = ['users','revenue']\n",
    "\n",
    "plt.figure(figsize= (15,6))\n",
    "x_values = pd.Series(range(0, len(revenue_per_users['revenue'])))\n",
    "\n",
    "plt.scatter(x_values, revenue_per_users['revenue'])\n",
    "plt.title('Scatter chart of order prices', size= 22)\n",
    "plt.xlabel('Users', size= 18)\n",
    "plt.ylabel('Revenue per user in USD', size= 18)\n",
    "\n",
    "\n",
    "\n",
    "plt.show()"
   ]
  },
  {
   "cell_type": "markdown",
   "metadata": {},
   "source": [
    "The above chart also shows that there are very few users whose generate more than 2500 dollar revenue."
   ]
  },
  {
   "cell_type": "markdown",
   "metadata": {},
   "source": [
    " \n"
   ]
  },
  {
   "cell_type": "markdown",
   "metadata": {},
   "source": [
    " "
   ]
  },
  {
   "cell_type": "markdown",
   "metadata": {},
   "source": [
    " "
   ]
  },
  {
   "cell_type": "markdown",
   "metadata": {},
   "source": [
    "### 2.8 Calculate the 95th and 99th percentiles of order prices\n",
    "<a id='28'></a>"
   ]
  },
  {
   "cell_type": "code",
   "execution_count": 207,
   "metadata": {},
   "outputs": [
    {
     "name": "stdout",
     "output_type": "stream",
     "text": [
      "Percintiles of the order amount for [95%, 99%]: [ 510.35 1047.24] in USD\n"
     ]
    }
   ],
   "source": [
    "print(f'Percintiles of the order amount for [95%, 99%]: {np.percentile(revenue_per_users.revenue, [95, 99])} in USD')"
   ]
  },
  {
   "cell_type": "markdown",
   "metadata": {},
   "source": [
    "We can see now only very small fraction. hence less than `1%` of users generate revenue more than 2500 dollars."
   ]
  },
  {
   "cell_type": "markdown",
   "metadata": {},
   "source": [
    "---\n",
    "[back to: chapter start](#eda1) | [back to: table of content](#toc)"
   ]
  },
  {
   "cell_type": "markdown",
   "metadata": {},
   "source": [
    " "
   ]
  },
  {
   "cell_type": "markdown",
   "metadata": {},
   "source": [
    " "
   ]
  },
  {
   "cell_type": "markdown",
   "metadata": {},
   "source": [
    " "
   ]
  },
  {
   "cell_type": "markdown",
   "metadata": {},
   "source": [
    "### 3. Evaluating the A/B Test results\n",
    "<a id='abtest'></a>\n",
    "<a id='abtest1'></a>"
   ]
  },
  {
   "cell_type": "markdown",
   "metadata": {},
   "source": [
    "[3.1 Statistical significance of the difference in conversion between the groups - raw data](#31)<br>\n",
    "[3.1.1 Conclusions and conjetures](#311)<br>\n",
    "[3.2 Statistical significance of the difference in average order size between the groups - raw data](#32)<br>\n",
    "[3.2.1 Conclusions and conjetures](#312)<br>\n",
    "[3.3 Statistical significance of the difference in conversion between the groups - filtered data](#33)<br>\n",
    "[3.3.1 Conclusions and conjetures](#313)<br>\n",
    "[3.4 Statistical significance of the difference in average order size between the groups - filtered data](#34)<br>\n",
    "[3.4.1 Conclusions and conjetures](#314)<br>"
   ]
  },
  {
   "cell_type": "markdown",
   "metadata": {},
   "source": [
    " "
   ]
  },
  {
   "cell_type": "markdown",
   "metadata": {},
   "source": [
    " "
   ]
  },
  {
   "cell_type": "markdown",
   "metadata": {},
   "source": [
    " "
   ]
  },
  {
   "cell_type": "markdown",
   "metadata": {},
   "source": [
    "### 3.1 Statistical significance of the difference in conversion between the groups - raw data\n",
    "<a id='31'></a>\n",
    "\n",
    "**H<sub>0</sub>**: There is **no** statistically significant difference in average order size between the Group A and B based on raw data. <br>\n",
    "**H<sub>1</sub>**: There is **a** statistically significant difference in average order size between the Group A and B based on raw data."
   ]
  },
  {
   "cell_type": "code",
   "execution_count": 223,
   "metadata": {},
   "outputs": [
    {
     "name": "stdout",
     "output_type": "stream",
     "text": [
      "p-value: 0.008\n",
      "0.138\n",
      "\n",
      "Null hypothesis rejected: the difference is statistically significant\n"
     ]
    }
   ],
   "source": [
    "orders_by_usersA = orders[orders['group']=='A'].groupby('visitorId', as_index=False).agg({'transactionId' : pd.Series.nunique})\n",
    "orders_by_usersA.columns = ['userId', 'orders']\n",
    "\n",
    "orders_by_usersB = orders[orders['group']=='B'].groupby('visitorId', as_index=False).agg({'transactionId' : pd.Series.nunique})\n",
    "orders_by_usersB.columns = ['userId', 'orders']\n",
    "\n",
    "sampleA = pd.concat([orders_by_usersA['orders'],pd.Series(0, index=np.arange(visits[visits['group']=='A']['visits'].sum() - len(orders_by_usersA['orders'])), name='orders')],axis=0)\n",
    "\n",
    "sampleB = pd.concat([orders_by_usersB['orders'],pd.Series(0, index=np.arange(visits[visits['group']=='B']['visits'].sum() - len(orders_by_usersB['orders'])), name='orders')],axis=0)\n",
    "\n",
    "results = st.mannwhitneyu(sampleA, sampleB)\n",
    "ratio_group_conversion = (sampleB.mean()/sampleA.mean()-1)\n",
    "\n",
    "alpha = .05 #significance level\n",
    "\n",
    "print(\"p-value: {0:.3f}\".format(results.pvalue))\n",
    "print(\"{0:.3f}\".format(ratio_group_conversion))\n",
    "print()\n",
    "if (results.pvalue < alpha):\n",
    "    print(\"Null hypothesis rejected: the difference is statistically significant\")\n",
    "else:\n",
    "    print(\"Failed to reject the null hypothesis: we can't make conclusions about the difference\")"
   ]
  },
  {
   "cell_type": "markdown",
   "metadata": {},
   "source": [
    "### 3.1.1 Conclusions and conjetures\n",
    "<a id='311'></a>"
   ]
  },
  {
   "cell_type": "markdown",
   "metadata": {},
   "source": [
    "As we can see p-value is less than significance value which implies 'Null hypothesis rejected' i.e. There is a statistically significant difference in conversion between the group A and B based on raw data. Also Group B relative conversion seems to be higher than Group A which is around `13.8%`"
   ]
  },
  {
   "cell_type": "markdown",
   "metadata": {},
   "source": [
    " "
   ]
  },
  {
   "cell_type": "markdown",
   "metadata": {},
   "source": [
    " "
   ]
  },
  {
   "cell_type": "markdown",
   "metadata": {},
   "source": [
    " "
   ]
  },
  {
   "cell_type": "markdown",
   "metadata": {},
   "source": [
    "### 3.2 Statistical significance of the difference in average order size between the groups - raw data\n",
    "<a id='32'></a>\n",
    "\n",
    "**H<sub>0</sub>**: There is **no** statistically significant difference in average order size between the Group A and B based on raw data. <br>\n",
    "**H<sub>1</sub>**: There is **a** statistically significant difference in average order size between the Group A and B based on raw data."
   ]
  },
  {
   "cell_type": "code",
   "execution_count": 222,
   "metadata": {},
   "outputs": [
    {
     "name": "stdout",
     "output_type": "stream",
     "text": [
      "p-value: 0.346\n",
      "Relative average order size of Group B over Group A: 0.252\n",
      "\n",
      "Failed to reject the null hypothesis: we can't make conclusions about the difference\n"
     ]
    }
   ],
   "source": [
    "results = st.mannwhitneyu(orders[orders['group']=='A']['revenue'], orders[orders['group']=='B']['revenue'])\n",
    "avg_ordersize_groups = (orders[orders['group']=='B']['revenue'].mean()/orders[orders['group']=='A']['revenue'].mean()-1)\n",
    "\n",
    "alpha = .05 #significance level\n",
    "\n",
    "print(\"p-value: {0:.3f}\".format(results.pvalue))\n",
    "print('Relative average order size of Group B over Group A: {0:.3f}'.format(avg_ordersize_groups))\n",
    "print()\n",
    "\n",
    "if (results.pvalue < alpha):\n",
    "    print(\"Null hypothesis rejected: the difference is statistically significant\")\n",
    "else:\n",
    "    print(\"Failed to reject the null hypothesis: we can't make conclusions about the difference\")"
   ]
  },
  {
   "cell_type": "markdown",
   "metadata": {},
   "source": [
    "### 3.2.1 Conclusions and conjetures\n",
    "<a id='312'></a>"
   ]
  },
  {
   "cell_type": "markdown",
   "metadata": {},
   "source": [
    "The p-value is greater than significance value which implies 'Failed to reject Null hypothesis' i.e. There is no statistically significant difference in average order size between the Group A and B based on raw data. Also Group B relative average order size is better than Group A i.e approx `25.2%` higher than Group A."
   ]
  },
  {
   "cell_type": "markdown",
   "metadata": {},
   "source": [
    " "
   ]
  },
  {
   "cell_type": "markdown",
   "metadata": {},
   "source": [
    " "
   ]
  },
  {
   "cell_type": "markdown",
   "metadata": {},
   "source": [
    " "
   ]
  },
  {
   "cell_type": "markdown",
   "metadata": {},
   "source": [
    "### 3.3  Statistical significance of the difference in conversion between the groups - filtered data\n",
    "<a id='33'></a>\n",
    "\n",
    "**H<sub>0</sub>**: There is **no** statistically significant difference in conversion between the group A and B based on filtered data. <br>\n",
    "**H<sub>1</sub>**: There is **a** statistically significant difference in conversion between the group A and B based on filtered data."
   ]
  },
  {
   "cell_type": "code",
   "execution_count": 221,
   "metadata": {},
   "outputs": [
    {
     "name": "stdout",
     "output_type": "stream",
     "text": [
      "p-value: 0.005\n",
      "0.174\n",
      "\n",
      "Null hypothesis rejected: the difference is statistically significant\n"
     ]
    }
   ],
   "source": [
    "order_lim = np.percentile(orders_per_users['orders'], 95)\n",
    "revenue_lim = 1000 #np.percentile(revenuePerUsers['revenue'], 99)\n",
    "\n",
    "users_with_high_orderrate = pd.concat([orders_by_usersA[orders_by_usersA['orders'] > order_lim]['userId'], \n",
    "                                 orders_by_usersB[orders_by_usersB['orders'] > order_lim]['userId']], axis = 0)\n",
    "users_with_high_order_amount = orders[orders['revenue'] > 1000]['visitorId']\n",
    "abnormal_users = pd.concat([users_with_high_orderrate, users_with_high_order_amount], axis = 0).drop_duplicates().sort_values()\n",
    "\n",
    "\n",
    "\n",
    "sampleA_filtered = pd.concat([orders_by_usersA[np.logical_not(orders_by_usersA['userId'].isin(abnormal_users))]['orders'],\n",
    "                             pd.Series(0, index=np.arange(visits[visits['group']=='A']['visits'].sum() - len(orders_by_usersA['orders'])),name='orders')],axis=0)\n",
    "\n",
    "sampleB_filtered = pd.concat([orders_by_usersB[np.logical_not(orders_by_usersB['userId'].isin(abnormal_users))]['orders'],\n",
    "                             pd.Series(0, index=np.arange(visits[visits['group']=='B']['visits'].sum() - len(orders_by_usersB['orders'])),name='orders')],axis=0) \n",
    "results = st.mannwhitneyu(sampleA_filtered, sampleB_filtered)\n",
    "\n",
    "alpha = .05 #significance level\n",
    "\n",
    "print(\"p-value: {0:.3f}\".format(results.pvalue))\n",
    "print(\"{0:.3f}\".format(sampleB_filtered.mean()/sampleA_filtered.mean()-1))\n",
    "print()\n",
    "if (results.pvalue < alpha):\n",
    "    print(\"Null hypothesis rejected: the difference is statistically significant\")\n",
    "else:\n",
    "    print(\"Failed to reject the null hypothesis: we can't make conclusions about the difference\")"
   ]
  },
  {
   "cell_type": "markdown",
   "metadata": {},
   "source": [
    "### 3.3.1 Conclusions and conjetures\n",
    "<a id='313'></a>"
   ]
  },
  {
   "cell_type": "markdown",
   "metadata": {},
   "source": [
    "As we can see p-value is less than significance value which implies 'Null hypothesis rejected' i.e. There is a statistically significant difference in conversion between the group A and B based on filtered data. Also we can say that the results for conversion almost didn't change after removing the outliers. now we can see after removing the outliers Group B relative increase in conversion is `17.4%` rather than `13.8%`."
   ]
  },
  {
   "cell_type": "markdown",
   "metadata": {},
   "source": [
    " "
   ]
  },
  {
   "cell_type": "markdown",
   "metadata": {},
   "source": [
    "  "
   ]
  },
  {
   "cell_type": "markdown",
   "metadata": {},
   "source": [
    " "
   ]
  },
  {
   "cell_type": "markdown",
   "metadata": {},
   "source": [
    "### 3.4 Statistical significance of the difference in average order size between the groups - filtered data\n",
    "<a id='34'></a>\n",
    "\n",
    "**H<sub>0</sub>**: There is **no** statistically significant difference in average order size between the group A and B based on filtered data. <br>\n",
    "**H<sub>1</sub>**: There is **a** statistically significant difference in average order size between the group A and B based on filtered data."
   ]
  },
  {
   "cell_type": "code",
   "execution_count": 220,
   "metadata": {},
   "outputs": [
    {
     "name": "stdout",
     "output_type": "stream",
     "text": [
      "p-value: 0.419\n",
      "-0.022\n",
      "\n",
      "Failed to reject the null hypothesis: we can't make conclusions about the difference\n"
     ]
    }
   ],
   "source": [
    "results = st.mannwhitneyu(\n",
    "    orders[np.logical_and(\n",
    "        orders['group']=='A',\n",
    "        np.logical_not(orders['visitorId'].isin(abnormal_users)))]['revenue'],\n",
    "    orders[np.logical_and(\n",
    "        orders['group']=='B',\n",
    "        np.logical_not(orders['visitorId'].isin(abnormal_users)))]['revenue'])\n",
    "\n",
    "\n",
    "alpha = .05 #significance level\n",
    "\n",
    "print('p-value: {0:.3f}'.format(results.pvalue))\n",
    "print('{0:.3f}'.format(\n",
    "    orders[np.logical_and(orders['group']=='B',np.logical_not(orders['visitorId'].isin(abnormal_users)))]['revenue'].mean()/\n",
    "    orders[np.logical_and(orders['group']=='A',\n",
    "        np.logical_not(orders['visitorId'].isin(abnormal_users)))]['revenue'].mean() - 1)) \n",
    "\n",
    "print()\n",
    "if (results.pvalue < alpha):\n",
    "    print(\"Null hypothesis rejected: the difference is statistically significant\")\n",
    "else:\n",
    "    print(\"Failed to reject the null hypothesis: we can't make conclusions about the difference\")"
   ]
  },
  {
   "cell_type": "markdown",
   "metadata": {},
   "source": [
    "### 3.4.1 Conclusions and conjetures\n",
    "<a id='314'></a>"
   ]
  },
  {
   "cell_type": "markdown",
   "metadata": {},
   "source": [
    "The p-value is greater than significance value which implies 'Failed to reject Null hypothesis' i.e. There is no statistically significant difference in average order size between the group A and B based on filtered data, which is same as earlier without removing outlier, but the relative difference of average order size for Group B is now decreasing as compare to Group A. This is how anomalies changed the conclusion."
   ]
  },
  {
   "cell_type": "markdown",
   "metadata": {},
   "source": [
    "---\n",
    "[back to: chapter start](#abtest1) | [back to: table of content](#toc)"
   ]
  },
  {
   "cell_type": "markdown",
   "metadata": {},
   "source": [
    " "
   ]
  },
  {
   "cell_type": "markdown",
   "metadata": {},
   "source": [
    " "
   ]
  },
  {
   "cell_type": "markdown",
   "metadata": {},
   "source": [
    " "
   ]
  },
  {
   "cell_type": "markdown",
   "metadata": {},
   "source": [
    "### 4. Decision based on the results\n",
    "<a id='final'></a>\n",
    "\n",
    "**The possible decisions are:**\n",
    "1. Stop the test, consider one of the groups the leader\n",
    "2. Stop the test, conclude that there is no difference between the groups\n",
    "3. Continue the test"
   ]
  },
  {
   "cell_type": "markdown",
   "metadata": {},
   "source": [
    "**Below are the facts for making our conclusion:**\n",
    "\n",
    "1. All Cumulative matrics shows better result for Group B.\n",
    "2. There is a statistically significant differences in conversion between the Groups A and B for both raw and filtered data. Group B's conversion is higher than Group A.\n",
    "3. Neither raw nor filtered data revealed any statistically significant differences in average order size between the groups.\n",
    "4. The graphs showing the difference in conversion between the groups tells us that Group B's results are better as compare to Group A but it does not seems to be stabilize till the end .\n",
    "5. The graph showing the difference in cumulative average order size between the groups tells us that group B's results are better and at the end it starting to becomes steady.\n",
    "\n",
    "Based on all above points we can say that for maximum matrics Group B is better than Group A. Now we can stop the test, considering Group B is better and can also provide recommendation to marketing department that Group B is better so we can invest in this Group for more revenues/profits."
   ]
  },
  {
   "cell_type": "markdown",
   "metadata": {},
   "source": [
    "[back to top](#top)"
   ]
  }
 ],
 "metadata": {
  "kernelspec": {
   "display_name": "Python 3",
   "language": "python",
   "name": "python3"
  },
  "language_info": {
   "codemirror_mode": {
    "name": "ipython",
    "version": 3
   },
   "file_extension": ".py",
   "mimetype": "text/x-python",
   "name": "python",
   "nbconvert_exporter": "python",
   "pygments_lexer": "ipython3",
   "version": "3.8.5"
  }
 },
 "nbformat": 4,
 "nbformat_minor": 4
}
