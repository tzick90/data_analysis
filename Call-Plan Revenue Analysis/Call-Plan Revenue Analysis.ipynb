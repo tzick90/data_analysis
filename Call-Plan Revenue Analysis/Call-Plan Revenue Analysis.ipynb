{
 "cells": [
  {
   "cell_type": "markdown",
   "metadata": {},
   "source": [
    "# Call-Plan Revenue Analysis (with Stastical Data Analysis)"
   ]
  },
  {
   "cell_type": "markdown",
   "metadata": {},
   "source": [
    "## Project description\n",
    "\n",
    "W are working as an analyst for the telecom operator Megaline. The company offers its clients two prepaid plans, Surf and Ultimate. The commercial department wants to know which of the plans brings in more revenue in order to adjust the advertising budget.\n",
    "\n",
    "In this project, we are going to carry out a preliminary analysis of the plans based on a relatively small client selection. We'll have the data on 500 Megaline clients: <br>\n",
    "\n",
    "* who the clients are\n",
    "* where they're from\n",
    "* which plan they use\n",
    "* the number of calls they made\n",
    "* text messages they sent in 2018. \n",
    "\n",
    "We were ask to analyze clients' behaviour and determine which prepaid plan brings in more revenue."
   ]
  },
  {
   "cell_type": "markdown",
   "metadata": {},
   "source": [
    "<a id='top'></a>"
   ]
  },
  {
   "cell_type": "markdown",
   "metadata": {},
   "source": [
    "### Table of content:"
   ]
  },
  {
   "cell_type": "markdown",
   "metadata": {},
   "source": [
    "#### [1. Importing Libraries](#import) \n",
    "#### [2. Loading Data](#Data1) \n",
    "[2.1 Loading Datasets](#loading_dataset1)  \n",
    "[2.2 Calls Dataset](#calls1)  \n",
    "[2.3 Internet Dataset](#internet1)  \n",
    "[2.4 Messages Dataset](#messages1)  \n",
    "[2.5 Plans Dataset](#plans1)  \n",
    "[2.6 Users Dataset](#users1)  \n",
    "[2.7 Conclusion](#conclusion_dataset1)  \n",
    "#### [3. Data preprocessing](#preprocessing1)\n",
    "[3.1 Converting the dataypes](#convert_data1)  \n",
    "[3.2 Combination of all Datasets](#merged_dataset1) <br>\n",
    "[3.2.1 Preparation for calls dataset ](#prep_call_data1) <br>\n",
    "[3.2.2 Preparation for internet dataset](#prep_internet_data1) <br>\n",
    "[3.2.3 Preparation for messages dataset](#prep_messages_data1) <br>\n",
    "[3.2.4 Merge dataset](#merging_sets1) <br>\n",
    "[3.3 Fill missing values of the merged dataset](#fill_values1) <br>\n",
    "[3.4 Change datatypes of the merged dataset](#change_data_types1) <br>\n",
    "[3.5 Adding the monthly revenue per month](#add_month_revenue1) <br>\n",
    "[3.6 Conclusion](#conclusion_prep_data1)\n",
    "#### [4. Data Analysis](#Analysis1)\n",
    "[4.1 Split to surf and ultimate plan](#split_plans1) <br> \n",
    "[4.2 Data volume usage by month...](#volume_data1) <br> \n",
    "[4.2.1 ...by duration](#by_duration1) <br> \n",
    "[4.2.2 ...by GB usage](#by_gb_usage1) <br> \n",
    "[4.2.3 ...by messages](#by_messages1) <br> \n",
    "[4.3 Histogram and Standard Deviation...](#hst_std1)  <br> \n",
    "[4.3.1 ...by duration](#by_duration11)<br> \n",
    "[4.3.2 ...by GB usage](#by_gb_usage11)<br> \n",
    "[4.3.3 ...by messages](#by_messages11)<br> \n",
    "[4.4 Conclusion](#concl_data1) <br>  \n",
    "#### [5. Hypthese testing](#tHypo1)\n",
    "[5.1 Test the hypotheses](#testing1)  <br>\n",
    "[5.1.1 Average revenue from users of Surf and Ultimate calling plans differences](#average_rev_by_plans1) <br>\n",
    "[5.1.2 Average revenue from users in NY-NJ area differs from users form other regions](#average_rev_by_regions1) <br>\n",
    "[5.2 Conclusion](#conclusion_hypo1) <br>\n",
    "#### [6. Final Conclusion](#final_concl)"
   ]
  },
  {
   "cell_type": "markdown",
   "metadata": {},
   "source": [
    "---"
   ]
  },
  {
   "cell_type": "markdown",
   "metadata": {},
   "source": [
    "<a id='import'></a>"
   ]
  },
  {
   "cell_type": "markdown",
   "metadata": {},
   "source": [
    "### 1. Importing Libraries"
   ]
  },
  {
   "cell_type": "code",
   "execution_count": 110,
   "metadata": {},
   "outputs": [],
   "source": [
    "import pandas as pd\n",
    "import numpy as np\n",
    "import matplotlib.pyplot as plt\n",
    "from functools import reduce\n",
    "from scipy import stats as st\n",
    "from io import BytesIO\n",
    "import requests"
   ]
  },
  {
   "cell_type": "markdown",
   "metadata": {},
   "source": [
    "<a id='Data1'></a>\n",
    "<a id='Data2'></a>"
   ]
  },
  {
   "cell_type": "markdown",
   "metadata": {},
   "source": [
    "### 2. Loading Data"
   ]
  },
  {
   "cell_type": "markdown",
   "metadata": {},
   "source": [
    "#### Quick Links:\n",
    "[2.1 Loading Datasets](#loading_dataset2)  \n",
    "[2.2 Calls Dataset](#calls2)  \n",
    "[2.3 Internet Dataset](#internet2)  \n",
    "[2.4 Messages Dataset](#messages2)  \n",
    "[2.5 Plans Dataset](#plans2)  \n",
    "[2.6 Users Dataset](#users2)  \n",
    "[2.7 Conclusion](#conclusion_dataset2)  "
   ]
  },
  {
   "cell_type": "markdown",
   "metadata": {},
   "source": [
    "<a id='loading_dataset1'></a>\n",
    "<a id='loading_dataset2'></a>"
   ]
  },
  {
   "cell_type": "markdown",
   "metadata": {},
   "source": [
    "#### 2.1 Loading Datasets"
   ]
  },
  {
   "cell_type": "code",
   "execution_count": 111,
   "metadata": {},
   "outputs": [],
   "source": [
    "try:\n",
    "    megaline_calls = pd.read_csv('megaline_calls.csv')\n",
    "    megaline_internet = pd.read_csv('megaline_internet.csv')\n",
    "    megaline_messages = pd.read_csv('megaline_messages.csv')\n",
    "    megaline_plans = pd.read_csv('megaline_plans.csv')\n",
    "    megaline_users = pd.read_csv('megaline_users.csv')\n",
    "except:\n",
    "    calls_spreadsheet_id = '10eT3MsKeM1HIWTsgKZuIzA2UGlrdeQXOoP0qhl3aG28'\n",
    "    file_name1 = 'https://docs.google.com/spreadsheets/d/{}/export?format=csv'.format(calls_spreadsheet_id)\n",
    "    r1 = requests.get(file_name1)\n",
    "    megaline_calls = pd.read_csv(BytesIO(r1.content))\n",
    "    \n",
    "    internet_spreadsheet_id = '1E7kwmbnx_6g76Qj4h74hFRXlfpOm4HIBQgIobsPvhpY'\n",
    "    file_name2 = 'https://docs.google.com/spreadsheets/d/{}/export?format=csv'.format(internet_spreadsheet_id)\n",
    "    r2 = requests.get(file_name2)\n",
    "    megaline_internet = pd.read_csv(BytesIO(r2.content))\n",
    "    \n",
    "    messages_spreadsheet_id = '1aabWIsyuofEjWZpEsPPfs1iBifIiHmD8kmQnvFBuDl4'\n",
    "    file_name3 = 'https://docs.google.com/spreadsheets/d/{}/export?format=csv'.format(messages_spreadsheet_id)\n",
    "    r3 = requests.get(file_name3)\n",
    "    megaline_messages = pd.read_csv(BytesIO(r3.content))\n",
    "    \n",
    "    plans_spreadsheet_id = '1jjklI_pMhnOv-ZfjMm7VMDMQr3Kw39oDxxBqGZGGgf8'\n",
    "    file_name4 = 'https://docs.google.com/spreadsheets/d/{}/export?format=csv'.format(plans_spreadsheet_id)\n",
    "    r4 = requests.get(file_name4)\n",
    "    megaline_plans = pd.read_csv(BytesIO(r4.content))\n",
    "    \n",
    "    users_spreadsheet_id = '1YxcgdSBkS-O3Krl2aas_CjRnt9iEKAjOVQX0DbDjb-I'\n",
    "    file_name5 = 'https://docs.google.com/spreadsheets/d/{}/export?format=csv'.format(users_spreadsheet_id)\n",
    "    r5 = requests.get(file_name5)\n",
    "    megaline_users = pd.read_csv(BytesIO(r5.content))\n"
   ]
  },
  {
   "cell_type": "markdown",
   "metadata": {},
   "source": [
    "<a id='calls1'></a>\n",
    "<a id='calls2'></a>"
   ]
  },
  {
   "cell_type": "markdown",
   "metadata": {},
   "source": [
    "#### 2.2 Calls Dataset"
   ]
  },
  {
   "cell_type": "code",
   "execution_count": 124,
   "metadata": {},
   "outputs": [
    {
     "name": "stdout",
     "output_type": "stream",
     "text": [
      "<class 'pandas.core.frame.DataFrame'>\n",
      "RangeIndex: 137735 entries, 0 to 137734\n",
      "Data columns (total 4 columns):\n",
      " #   Column     Non-Null Count   Dtype  \n",
      "---  ------     --------------   -----  \n",
      " 0   id         137735 non-null  object \n",
      " 1   user_id    137735 non-null  int64  \n",
      " 2   call_date  137735 non-null  object \n",
      " 3   duration   137735 non-null  float64\n",
      "dtypes: float64(1), int64(1), object(2)\n",
      "memory usage: 4.2+ MB\n"
     ]
    }
   ],
   "source": [
    "megaline_calls.info()"
   ]
  },
  {
   "cell_type": "code",
   "execution_count": 125,
   "metadata": {},
   "outputs": [
    {
     "data": {
      "text/html": [
       "<div>\n",
       "<style scoped>\n",
       "    .dataframe tbody tr th:only-of-type {\n",
       "        vertical-align: middle;\n",
       "    }\n",
       "\n",
       "    .dataframe tbody tr th {\n",
       "        vertical-align: top;\n",
       "    }\n",
       "\n",
       "    .dataframe thead th {\n",
       "        text-align: right;\n",
       "    }\n",
       "</style>\n",
       "<table border=\"1\" class=\"dataframe\">\n",
       "  <thead>\n",
       "    <tr style=\"text-align: right;\">\n",
       "      <th></th>\n",
       "      <th>user_id</th>\n",
       "      <th>duration</th>\n",
       "    </tr>\n",
       "  </thead>\n",
       "  <tbody>\n",
       "    <tr>\n",
       "      <th>count</th>\n",
       "      <td>137735.000000</td>\n",
       "      <td>137735.000000</td>\n",
       "    </tr>\n",
       "    <tr>\n",
       "      <th>mean</th>\n",
       "      <td>1247.658046</td>\n",
       "      <td>6.745927</td>\n",
       "    </tr>\n",
       "    <tr>\n",
       "      <th>std</th>\n",
       "      <td>139.416268</td>\n",
       "      <td>5.839241</td>\n",
       "    </tr>\n",
       "    <tr>\n",
       "      <th>min</th>\n",
       "      <td>1000.000000</td>\n",
       "      <td>0.000000</td>\n",
       "    </tr>\n",
       "    <tr>\n",
       "      <th>25%</th>\n",
       "      <td>1128.000000</td>\n",
       "      <td>1.290000</td>\n",
       "    </tr>\n",
       "    <tr>\n",
       "      <th>50%</th>\n",
       "      <td>1247.000000</td>\n",
       "      <td>5.980000</td>\n",
       "    </tr>\n",
       "    <tr>\n",
       "      <th>75%</th>\n",
       "      <td>1365.000000</td>\n",
       "      <td>10.690000</td>\n",
       "    </tr>\n",
       "    <tr>\n",
       "      <th>max</th>\n",
       "      <td>1499.000000</td>\n",
       "      <td>37.600000</td>\n",
       "    </tr>\n",
       "  </tbody>\n",
       "</table>\n",
       "</div>"
      ],
      "text/plain": [
       "             user_id       duration\n",
       "count  137735.000000  137735.000000\n",
       "mean     1247.658046       6.745927\n",
       "std       139.416268       5.839241\n",
       "min      1000.000000       0.000000\n",
       "25%      1128.000000       1.290000\n",
       "50%      1247.000000       5.980000\n",
       "75%      1365.000000      10.690000\n",
       "max      1499.000000      37.600000"
      ]
     },
     "execution_count": 125,
     "metadata": {},
     "output_type": "execute_result"
    }
   ],
   "source": [
    "megaline_calls.describe()"
   ]
  },
  {
   "cell_type": "code",
   "execution_count": 126,
   "metadata": {},
   "outputs": [
    {
     "data": {
      "text/html": [
       "<div>\n",
       "<style scoped>\n",
       "    .dataframe tbody tr th:only-of-type {\n",
       "        vertical-align: middle;\n",
       "    }\n",
       "\n",
       "    .dataframe tbody tr th {\n",
       "        vertical-align: top;\n",
       "    }\n",
       "\n",
       "    .dataframe thead th {\n",
       "        text-align: right;\n",
       "    }\n",
       "</style>\n",
       "<table border=\"1\" class=\"dataframe\">\n",
       "  <thead>\n",
       "    <tr style=\"text-align: right;\">\n",
       "      <th></th>\n",
       "      <th>id</th>\n",
       "      <th>user_id</th>\n",
       "      <th>call_date</th>\n",
       "      <th>duration</th>\n",
       "    </tr>\n",
       "  </thead>\n",
       "  <tbody>\n",
       "    <tr>\n",
       "      <th>22603</th>\n",
       "      <td>1082_692</td>\n",
       "      <td>1082</td>\n",
       "      <td>2018-06-07</td>\n",
       "      <td>20.08</td>\n",
       "    </tr>\n",
       "  </tbody>\n",
       "</table>\n",
       "</div>"
      ],
      "text/plain": [
       "             id  user_id   call_date  duration\n",
       "22603  1082_692     1082  2018-06-07     20.08"
      ]
     },
     "execution_count": 126,
     "metadata": {},
     "output_type": "execute_result"
    }
   ],
   "source": [
    "megaline_calls.sample()"
   ]
  },
  {
   "cell_type": "code",
   "execution_count": 127,
   "metadata": {},
   "outputs": [
    {
     "data": {
      "text/html": [
       "<div>\n",
       "<style scoped>\n",
       "    .dataframe tbody tr th:only-of-type {\n",
       "        vertical-align: middle;\n",
       "    }\n",
       "\n",
       "    .dataframe tbody tr th {\n",
       "        vertical-align: top;\n",
       "    }\n",
       "\n",
       "    .dataframe thead th {\n",
       "        text-align: right;\n",
       "    }\n",
       "</style>\n",
       "<table border=\"1\" class=\"dataframe\">\n",
       "  <thead>\n",
       "    <tr style=\"text-align: right;\">\n",
       "      <th></th>\n",
       "      <th>id</th>\n",
       "      <th>user_id</th>\n",
       "      <th>call_date</th>\n",
       "      <th>duration</th>\n",
       "    </tr>\n",
       "  </thead>\n",
       "  <tbody>\n",
       "    <tr>\n",
       "      <th>0</th>\n",
       "      <td>1000_93</td>\n",
       "      <td>1000</td>\n",
       "      <td>2018-12-27</td>\n",
       "      <td>8.52</td>\n",
       "    </tr>\n",
       "    <tr>\n",
       "      <th>1</th>\n",
       "      <td>1000_145</td>\n",
       "      <td>1000</td>\n",
       "      <td>2018-12-27</td>\n",
       "      <td>13.66</td>\n",
       "    </tr>\n",
       "    <tr>\n",
       "      <th>2</th>\n",
       "      <td>1000_247</td>\n",
       "      <td>1000</td>\n",
       "      <td>2018-12-27</td>\n",
       "      <td>14.48</td>\n",
       "    </tr>\n",
       "    <tr>\n",
       "      <th>3</th>\n",
       "      <td>1000_309</td>\n",
       "      <td>1000</td>\n",
       "      <td>2018-12-28</td>\n",
       "      <td>5.76</td>\n",
       "    </tr>\n",
       "    <tr>\n",
       "      <th>4</th>\n",
       "      <td>1000_380</td>\n",
       "      <td>1000</td>\n",
       "      <td>2018-12-30</td>\n",
       "      <td>4.22</td>\n",
       "    </tr>\n",
       "  </tbody>\n",
       "</table>\n",
       "</div>"
      ],
      "text/plain": [
       "         id  user_id   call_date  duration\n",
       "0   1000_93     1000  2018-12-27      8.52\n",
       "1  1000_145     1000  2018-12-27     13.66\n",
       "2  1000_247     1000  2018-12-27     14.48\n",
       "3  1000_309     1000  2018-12-28      5.76\n",
       "4  1000_380     1000  2018-12-30      4.22"
      ]
     },
     "execution_count": 127,
     "metadata": {},
     "output_type": "execute_result"
    }
   ],
   "source": [
    "megaline_calls.head()"
   ]
  },
  {
   "cell_type": "markdown",
   "metadata": {},
   "source": [
    "<a id='internet1'></a>\n",
    "<a id='internet2'></a>"
   ]
  },
  {
   "cell_type": "markdown",
   "metadata": {},
   "source": [
    "#### 2.3 Internet Dataset"
   ]
  },
  {
   "cell_type": "code",
   "execution_count": 128,
   "metadata": {},
   "outputs": [
    {
     "name": "stdout",
     "output_type": "stream",
     "text": [
      "<class 'pandas.core.frame.DataFrame'>\n",
      "RangeIndex: 104825 entries, 0 to 104824\n",
      "Data columns (total 4 columns):\n",
      " #   Column        Non-Null Count   Dtype  \n",
      "---  ------        --------------   -----  \n",
      " 0   id            104825 non-null  object \n",
      " 1   user_id       104825 non-null  int64  \n",
      " 2   session_date  104825 non-null  object \n",
      " 3   mb_used       104825 non-null  float64\n",
      "dtypes: float64(1), int64(1), object(2)\n",
      "memory usage: 3.2+ MB\n"
     ]
    }
   ],
   "source": [
    "megaline_internet.info()"
   ]
  },
  {
   "cell_type": "code",
   "execution_count": 129,
   "metadata": {},
   "outputs": [
    {
     "data": {
      "text/html": [
       "<div>\n",
       "<style scoped>\n",
       "    .dataframe tbody tr th:only-of-type {\n",
       "        vertical-align: middle;\n",
       "    }\n",
       "\n",
       "    .dataframe tbody tr th {\n",
       "        vertical-align: top;\n",
       "    }\n",
       "\n",
       "    .dataframe thead th {\n",
       "        text-align: right;\n",
       "    }\n",
       "</style>\n",
       "<table border=\"1\" class=\"dataframe\">\n",
       "  <thead>\n",
       "    <tr style=\"text-align: right;\">\n",
       "      <th></th>\n",
       "      <th>user_id</th>\n",
       "      <th>mb_used</th>\n",
       "    </tr>\n",
       "  </thead>\n",
       "  <tbody>\n",
       "    <tr>\n",
       "      <th>count</th>\n",
       "      <td>104825.000000</td>\n",
       "      <td>104825.000000</td>\n",
       "    </tr>\n",
       "    <tr>\n",
       "      <th>mean</th>\n",
       "      <td>1242.496361</td>\n",
       "      <td>366.713701</td>\n",
       "    </tr>\n",
       "    <tr>\n",
       "      <th>std</th>\n",
       "      <td>142.053913</td>\n",
       "      <td>277.170542</td>\n",
       "    </tr>\n",
       "    <tr>\n",
       "      <th>min</th>\n",
       "      <td>1000.000000</td>\n",
       "      <td>0.000000</td>\n",
       "    </tr>\n",
       "    <tr>\n",
       "      <th>25%</th>\n",
       "      <td>1122.000000</td>\n",
       "      <td>136.080000</td>\n",
       "    </tr>\n",
       "    <tr>\n",
       "      <th>50%</th>\n",
       "      <td>1236.000000</td>\n",
       "      <td>343.980000</td>\n",
       "    </tr>\n",
       "    <tr>\n",
       "      <th>75%</th>\n",
       "      <td>1367.000000</td>\n",
       "      <td>554.610000</td>\n",
       "    </tr>\n",
       "    <tr>\n",
       "      <th>max</th>\n",
       "      <td>1499.000000</td>\n",
       "      <td>1693.470000</td>\n",
       "    </tr>\n",
       "  </tbody>\n",
       "</table>\n",
       "</div>"
      ],
      "text/plain": [
       "             user_id        mb_used\n",
       "count  104825.000000  104825.000000\n",
       "mean     1242.496361     366.713701\n",
       "std       142.053913     277.170542\n",
       "min      1000.000000       0.000000\n",
       "25%      1122.000000     136.080000\n",
       "50%      1236.000000     343.980000\n",
       "75%      1367.000000     554.610000\n",
       "max      1499.000000    1693.470000"
      ]
     },
     "execution_count": 129,
     "metadata": {},
     "output_type": "execute_result"
    }
   ],
   "source": [
    "megaline_internet.describe()"
   ]
  },
  {
   "cell_type": "code",
   "execution_count": 130,
   "metadata": {},
   "outputs": [
    {
     "data": {
      "text/html": [
       "<div>\n",
       "<style scoped>\n",
       "    .dataframe tbody tr th:only-of-type {\n",
       "        vertical-align: middle;\n",
       "    }\n",
       "\n",
       "    .dataframe tbody tr th {\n",
       "        vertical-align: top;\n",
       "    }\n",
       "\n",
       "    .dataframe thead th {\n",
       "        text-align: right;\n",
       "    }\n",
       "</style>\n",
       "<table border=\"1\" class=\"dataframe\">\n",
       "  <thead>\n",
       "    <tr style=\"text-align: right;\">\n",
       "      <th></th>\n",
       "      <th>id</th>\n",
       "      <th>user_id</th>\n",
       "      <th>session_date</th>\n",
       "      <th>mb_used</th>\n",
       "    </tr>\n",
       "  </thead>\n",
       "  <tbody>\n",
       "    <tr>\n",
       "      <th>2306</th>\n",
       "      <td>1011_46</td>\n",
       "      <td>1011</td>\n",
       "      <td>2018-11-27</td>\n",
       "      <td>746.64</td>\n",
       "    </tr>\n",
       "  </tbody>\n",
       "</table>\n",
       "</div>"
      ],
      "text/plain": [
       "           id  user_id session_date  mb_used\n",
       "2306  1011_46     1011   2018-11-27   746.64"
      ]
     },
     "execution_count": 130,
     "metadata": {},
     "output_type": "execute_result"
    }
   ],
   "source": [
    "megaline_internet.sample()"
   ]
  },
  {
   "cell_type": "code",
   "execution_count": 131,
   "metadata": {},
   "outputs": [
    {
     "data": {
      "text/html": [
       "<div>\n",
       "<style scoped>\n",
       "    .dataframe tbody tr th:only-of-type {\n",
       "        vertical-align: middle;\n",
       "    }\n",
       "\n",
       "    .dataframe tbody tr th {\n",
       "        vertical-align: top;\n",
       "    }\n",
       "\n",
       "    .dataframe thead th {\n",
       "        text-align: right;\n",
       "    }\n",
       "</style>\n",
       "<table border=\"1\" class=\"dataframe\">\n",
       "  <thead>\n",
       "    <tr style=\"text-align: right;\">\n",
       "      <th></th>\n",
       "      <th>id</th>\n",
       "      <th>user_id</th>\n",
       "      <th>session_date</th>\n",
       "      <th>mb_used</th>\n",
       "    </tr>\n",
       "  </thead>\n",
       "  <tbody>\n",
       "    <tr>\n",
       "      <th>0</th>\n",
       "      <td>1000_13</td>\n",
       "      <td>1000</td>\n",
       "      <td>2018-12-29</td>\n",
       "      <td>89.86</td>\n",
       "    </tr>\n",
       "    <tr>\n",
       "      <th>1</th>\n",
       "      <td>1000_204</td>\n",
       "      <td>1000</td>\n",
       "      <td>2018-12-31</td>\n",
       "      <td>0.00</td>\n",
       "    </tr>\n",
       "    <tr>\n",
       "      <th>2</th>\n",
       "      <td>1000_379</td>\n",
       "      <td>1000</td>\n",
       "      <td>2018-12-28</td>\n",
       "      <td>660.40</td>\n",
       "    </tr>\n",
       "    <tr>\n",
       "      <th>3</th>\n",
       "      <td>1000_413</td>\n",
       "      <td>1000</td>\n",
       "      <td>2018-12-26</td>\n",
       "      <td>270.99</td>\n",
       "    </tr>\n",
       "    <tr>\n",
       "      <th>4</th>\n",
       "      <td>1000_442</td>\n",
       "      <td>1000</td>\n",
       "      <td>2018-12-27</td>\n",
       "      <td>880.22</td>\n",
       "    </tr>\n",
       "  </tbody>\n",
       "</table>\n",
       "</div>"
      ],
      "text/plain": [
       "         id  user_id session_date  mb_used\n",
       "0   1000_13     1000   2018-12-29    89.86\n",
       "1  1000_204     1000   2018-12-31     0.00\n",
       "2  1000_379     1000   2018-12-28   660.40\n",
       "3  1000_413     1000   2018-12-26   270.99\n",
       "4  1000_442     1000   2018-12-27   880.22"
      ]
     },
     "execution_count": 131,
     "metadata": {},
     "output_type": "execute_result"
    }
   ],
   "source": [
    "megaline_internet.head()"
   ]
  },
  {
   "cell_type": "markdown",
   "metadata": {},
   "source": [
    "<a id='messages1'></a>\n",
    "<a id='messages2'></a>"
   ]
  },
  {
   "cell_type": "markdown",
   "metadata": {},
   "source": [
    "#### 2.4 Messages Dataset"
   ]
  },
  {
   "cell_type": "code",
   "execution_count": 132,
   "metadata": {},
   "outputs": [
    {
     "name": "stdout",
     "output_type": "stream",
     "text": [
      "<class 'pandas.core.frame.DataFrame'>\n",
      "RangeIndex: 76051 entries, 0 to 76050\n",
      "Data columns (total 3 columns):\n",
      " #   Column        Non-Null Count  Dtype \n",
      "---  ------        --------------  ----- \n",
      " 0   id            76051 non-null  object\n",
      " 1   user_id       76051 non-null  int64 \n",
      " 2   message_date  76051 non-null  object\n",
      "dtypes: int64(1), object(2)\n",
      "memory usage: 1.7+ MB\n"
     ]
    }
   ],
   "source": [
    "megaline_messages.info()"
   ]
  },
  {
   "cell_type": "code",
   "execution_count": 133,
   "metadata": {},
   "outputs": [
    {
     "data": {
      "text/html": [
       "<div>\n",
       "<style scoped>\n",
       "    .dataframe tbody tr th:only-of-type {\n",
       "        vertical-align: middle;\n",
       "    }\n",
       "\n",
       "    .dataframe tbody tr th {\n",
       "        vertical-align: top;\n",
       "    }\n",
       "\n",
       "    .dataframe thead th {\n",
       "        text-align: right;\n",
       "    }\n",
       "</style>\n",
       "<table border=\"1\" class=\"dataframe\">\n",
       "  <thead>\n",
       "    <tr style=\"text-align: right;\">\n",
       "      <th></th>\n",
       "      <th>user_id</th>\n",
       "    </tr>\n",
       "  </thead>\n",
       "  <tbody>\n",
       "    <tr>\n",
       "      <th>count</th>\n",
       "      <td>76051.000000</td>\n",
       "    </tr>\n",
       "    <tr>\n",
       "      <th>mean</th>\n",
       "      <td>1245.972768</td>\n",
       "    </tr>\n",
       "    <tr>\n",
       "      <th>std</th>\n",
       "      <td>139.843635</td>\n",
       "    </tr>\n",
       "    <tr>\n",
       "      <th>min</th>\n",
       "      <td>1000.000000</td>\n",
       "    </tr>\n",
       "    <tr>\n",
       "      <th>25%</th>\n",
       "      <td>1123.000000</td>\n",
       "    </tr>\n",
       "    <tr>\n",
       "      <th>50%</th>\n",
       "      <td>1251.000000</td>\n",
       "    </tr>\n",
       "    <tr>\n",
       "      <th>75%</th>\n",
       "      <td>1362.000000</td>\n",
       "    </tr>\n",
       "    <tr>\n",
       "      <th>max</th>\n",
       "      <td>1497.000000</td>\n",
       "    </tr>\n",
       "  </tbody>\n",
       "</table>\n",
       "</div>"
      ],
      "text/plain": [
       "            user_id\n",
       "count  76051.000000\n",
       "mean    1245.972768\n",
       "std      139.843635\n",
       "min     1000.000000\n",
       "25%     1123.000000\n",
       "50%     1251.000000\n",
       "75%     1362.000000\n",
       "max     1497.000000"
      ]
     },
     "execution_count": 133,
     "metadata": {},
     "output_type": "execute_result"
    }
   ],
   "source": [
    "megaline_messages.describe()"
   ]
  },
  {
   "cell_type": "code",
   "execution_count": 134,
   "metadata": {},
   "outputs": [
    {
     "data": {
      "text/html": [
       "<div>\n",
       "<style scoped>\n",
       "    .dataframe tbody tr th:only-of-type {\n",
       "        vertical-align: middle;\n",
       "    }\n",
       "\n",
       "    .dataframe tbody tr th {\n",
       "        vertical-align: top;\n",
       "    }\n",
       "\n",
       "    .dataframe thead th {\n",
       "        text-align: right;\n",
       "    }\n",
       "</style>\n",
       "<table border=\"1\" class=\"dataframe\">\n",
       "  <thead>\n",
       "    <tr style=\"text-align: right;\">\n",
       "      <th></th>\n",
       "      <th>id</th>\n",
       "      <th>user_id</th>\n",
       "      <th>message_date</th>\n",
       "    </tr>\n",
       "  </thead>\n",
       "  <tbody>\n",
       "    <tr>\n",
       "      <th>43283</th>\n",
       "      <td>1285_124</td>\n",
       "      <td>1285</td>\n",
       "      <td>2018-10-16</td>\n",
       "    </tr>\n",
       "  </tbody>\n",
       "</table>\n",
       "</div>"
      ],
      "text/plain": [
       "             id  user_id message_date\n",
       "43283  1285_124     1285   2018-10-16"
      ]
     },
     "execution_count": 134,
     "metadata": {},
     "output_type": "execute_result"
    }
   ],
   "source": [
    "megaline_messages.sample()"
   ]
  },
  {
   "cell_type": "code",
   "execution_count": 135,
   "metadata": {},
   "outputs": [
    {
     "data": {
      "text/html": [
       "<div>\n",
       "<style scoped>\n",
       "    .dataframe tbody tr th:only-of-type {\n",
       "        vertical-align: middle;\n",
       "    }\n",
       "\n",
       "    .dataframe tbody tr th {\n",
       "        vertical-align: top;\n",
       "    }\n",
       "\n",
       "    .dataframe thead th {\n",
       "        text-align: right;\n",
       "    }\n",
       "</style>\n",
       "<table border=\"1\" class=\"dataframe\">\n",
       "  <thead>\n",
       "    <tr style=\"text-align: right;\">\n",
       "      <th></th>\n",
       "      <th>id</th>\n",
       "      <th>user_id</th>\n",
       "      <th>message_date</th>\n",
       "    </tr>\n",
       "  </thead>\n",
       "  <tbody>\n",
       "    <tr>\n",
       "      <th>0</th>\n",
       "      <td>1000_125</td>\n",
       "      <td>1000</td>\n",
       "      <td>2018-12-27</td>\n",
       "    </tr>\n",
       "    <tr>\n",
       "      <th>1</th>\n",
       "      <td>1000_160</td>\n",
       "      <td>1000</td>\n",
       "      <td>2018-12-31</td>\n",
       "    </tr>\n",
       "    <tr>\n",
       "      <th>2</th>\n",
       "      <td>1000_223</td>\n",
       "      <td>1000</td>\n",
       "      <td>2018-12-31</td>\n",
       "    </tr>\n",
       "    <tr>\n",
       "      <th>3</th>\n",
       "      <td>1000_251</td>\n",
       "      <td>1000</td>\n",
       "      <td>2018-12-27</td>\n",
       "    </tr>\n",
       "    <tr>\n",
       "      <th>4</th>\n",
       "      <td>1000_255</td>\n",
       "      <td>1000</td>\n",
       "      <td>2018-12-26</td>\n",
       "    </tr>\n",
       "  </tbody>\n",
       "</table>\n",
       "</div>"
      ],
      "text/plain": [
       "         id  user_id message_date\n",
       "0  1000_125     1000   2018-12-27\n",
       "1  1000_160     1000   2018-12-31\n",
       "2  1000_223     1000   2018-12-31\n",
       "3  1000_251     1000   2018-12-27\n",
       "4  1000_255     1000   2018-12-26"
      ]
     },
     "execution_count": 135,
     "metadata": {},
     "output_type": "execute_result"
    }
   ],
   "source": [
    "megaline_messages.head()"
   ]
  },
  {
   "cell_type": "markdown",
   "metadata": {},
   "source": [
    "<a id='plans1'></a>\n",
    "<a id='plans2'></a>"
   ]
  },
  {
   "cell_type": "markdown",
   "metadata": {},
   "source": [
    "#### 2.5 Plans Dataset"
   ]
  },
  {
   "cell_type": "code",
   "execution_count": 136,
   "metadata": {},
   "outputs": [
    {
     "name": "stdout",
     "output_type": "stream",
     "text": [
      "<class 'pandas.core.frame.DataFrame'>\n",
      "RangeIndex: 2 entries, 0 to 1\n",
      "Data columns (total 8 columns):\n",
      " #   Column                 Non-Null Count  Dtype  \n",
      "---  ------                 --------------  -----  \n",
      " 0   messages_included      2 non-null      int64  \n",
      " 1   mb_per_month_included  2 non-null      int64  \n",
      " 2   minutes_included       2 non-null      int64  \n",
      " 3   usd_monthly_pay        2 non-null      int64  \n",
      " 4   usd_per_gb             2 non-null      int64  \n",
      " 5   usd_per_message        2 non-null      float64\n",
      " 6   usd_per_minute         2 non-null      float64\n",
      " 7   plan_name              2 non-null      object \n",
      "dtypes: float64(2), int64(5), object(1)\n",
      "memory usage: 256.0+ bytes\n"
     ]
    }
   ],
   "source": [
    "megaline_plans.info()"
   ]
  },
  {
   "cell_type": "code",
   "execution_count": 137,
   "metadata": {},
   "outputs": [
    {
     "data": {
      "text/html": [
       "<div>\n",
       "<style scoped>\n",
       "    .dataframe tbody tr th:only-of-type {\n",
       "        vertical-align: middle;\n",
       "    }\n",
       "\n",
       "    .dataframe tbody tr th {\n",
       "        vertical-align: top;\n",
       "    }\n",
       "\n",
       "    .dataframe thead th {\n",
       "        text-align: right;\n",
       "    }\n",
       "</style>\n",
       "<table border=\"1\" class=\"dataframe\">\n",
       "  <thead>\n",
       "    <tr style=\"text-align: right;\">\n",
       "      <th></th>\n",
       "      <th>messages_included</th>\n",
       "      <th>mb_per_month_included</th>\n",
       "      <th>minutes_included</th>\n",
       "      <th>usd_monthly_pay</th>\n",
       "      <th>usd_per_gb</th>\n",
       "      <th>usd_per_message</th>\n",
       "      <th>usd_per_minute</th>\n",
       "    </tr>\n",
       "  </thead>\n",
       "  <tbody>\n",
       "    <tr>\n",
       "      <th>count</th>\n",
       "      <td>2.000000</td>\n",
       "      <td>2.000000</td>\n",
       "      <td>2.000000</td>\n",
       "      <td>2.000000</td>\n",
       "      <td>2.00000</td>\n",
       "      <td>2.000000</td>\n",
       "      <td>2.000000</td>\n",
       "    </tr>\n",
       "    <tr>\n",
       "      <th>mean</th>\n",
       "      <td>525.000000</td>\n",
       "      <td>23040.000000</td>\n",
       "      <td>1750.000000</td>\n",
       "      <td>45.000000</td>\n",
       "      <td>8.50000</td>\n",
       "      <td>0.020000</td>\n",
       "      <td>0.020000</td>\n",
       "    </tr>\n",
       "    <tr>\n",
       "      <th>std</th>\n",
       "      <td>671.751442</td>\n",
       "      <td>10861.160159</td>\n",
       "      <td>1767.766953</td>\n",
       "      <td>35.355339</td>\n",
       "      <td>2.12132</td>\n",
       "      <td>0.014142</td>\n",
       "      <td>0.014142</td>\n",
       "    </tr>\n",
       "    <tr>\n",
       "      <th>min</th>\n",
       "      <td>50.000000</td>\n",
       "      <td>15360.000000</td>\n",
       "      <td>500.000000</td>\n",
       "      <td>20.000000</td>\n",
       "      <td>7.00000</td>\n",
       "      <td>0.010000</td>\n",
       "      <td>0.010000</td>\n",
       "    </tr>\n",
       "    <tr>\n",
       "      <th>25%</th>\n",
       "      <td>287.500000</td>\n",
       "      <td>19200.000000</td>\n",
       "      <td>1125.000000</td>\n",
       "      <td>32.500000</td>\n",
       "      <td>7.75000</td>\n",
       "      <td>0.015000</td>\n",
       "      <td>0.015000</td>\n",
       "    </tr>\n",
       "    <tr>\n",
       "      <th>50%</th>\n",
       "      <td>525.000000</td>\n",
       "      <td>23040.000000</td>\n",
       "      <td>1750.000000</td>\n",
       "      <td>45.000000</td>\n",
       "      <td>8.50000</td>\n",
       "      <td>0.020000</td>\n",
       "      <td>0.020000</td>\n",
       "    </tr>\n",
       "    <tr>\n",
       "      <th>75%</th>\n",
       "      <td>762.500000</td>\n",
       "      <td>26880.000000</td>\n",
       "      <td>2375.000000</td>\n",
       "      <td>57.500000</td>\n",
       "      <td>9.25000</td>\n",
       "      <td>0.025000</td>\n",
       "      <td>0.025000</td>\n",
       "    </tr>\n",
       "    <tr>\n",
       "      <th>max</th>\n",
       "      <td>1000.000000</td>\n",
       "      <td>30720.000000</td>\n",
       "      <td>3000.000000</td>\n",
       "      <td>70.000000</td>\n",
       "      <td>10.00000</td>\n",
       "      <td>0.030000</td>\n",
       "      <td>0.030000</td>\n",
       "    </tr>\n",
       "  </tbody>\n",
       "</table>\n",
       "</div>"
      ],
      "text/plain": [
       "       messages_included  mb_per_month_included  minutes_included  \\\n",
       "count           2.000000               2.000000          2.000000   \n",
       "mean          525.000000           23040.000000       1750.000000   \n",
       "std           671.751442           10861.160159       1767.766953   \n",
       "min            50.000000           15360.000000        500.000000   \n",
       "25%           287.500000           19200.000000       1125.000000   \n",
       "50%           525.000000           23040.000000       1750.000000   \n",
       "75%           762.500000           26880.000000       2375.000000   \n",
       "max          1000.000000           30720.000000       3000.000000   \n",
       "\n",
       "       usd_monthly_pay  usd_per_gb  usd_per_message  usd_per_minute  \n",
       "count         2.000000     2.00000         2.000000        2.000000  \n",
       "mean         45.000000     8.50000         0.020000        0.020000  \n",
       "std          35.355339     2.12132         0.014142        0.014142  \n",
       "min          20.000000     7.00000         0.010000        0.010000  \n",
       "25%          32.500000     7.75000         0.015000        0.015000  \n",
       "50%          45.000000     8.50000         0.020000        0.020000  \n",
       "75%          57.500000     9.25000         0.025000        0.025000  \n",
       "max          70.000000    10.00000         0.030000        0.030000  "
      ]
     },
     "execution_count": 137,
     "metadata": {},
     "output_type": "execute_result"
    }
   ],
   "source": [
    "megaline_plans.describe()"
   ]
  },
  {
   "cell_type": "code",
   "execution_count": 138,
   "metadata": {},
   "outputs": [
    {
     "data": {
      "text/html": [
       "<div>\n",
       "<style scoped>\n",
       "    .dataframe tbody tr th:only-of-type {\n",
       "        vertical-align: middle;\n",
       "    }\n",
       "\n",
       "    .dataframe tbody tr th {\n",
       "        vertical-align: top;\n",
       "    }\n",
       "\n",
       "    .dataframe thead th {\n",
       "        text-align: right;\n",
       "    }\n",
       "</style>\n",
       "<table border=\"1\" class=\"dataframe\">\n",
       "  <thead>\n",
       "    <tr style=\"text-align: right;\">\n",
       "      <th></th>\n",
       "      <th>messages_included</th>\n",
       "      <th>mb_per_month_included</th>\n",
       "      <th>minutes_included</th>\n",
       "      <th>usd_monthly_pay</th>\n",
       "      <th>usd_per_gb</th>\n",
       "      <th>usd_per_message</th>\n",
       "      <th>usd_per_minute</th>\n",
       "      <th>plan_name</th>\n",
       "    </tr>\n",
       "  </thead>\n",
       "  <tbody>\n",
       "    <tr>\n",
       "      <th>1</th>\n",
       "      <td>1000</td>\n",
       "      <td>30720</td>\n",
       "      <td>3000</td>\n",
       "      <td>70</td>\n",
       "      <td>7</td>\n",
       "      <td>0.01</td>\n",
       "      <td>0.01</td>\n",
       "      <td>ultimate</td>\n",
       "    </tr>\n",
       "  </tbody>\n",
       "</table>\n",
       "</div>"
      ],
      "text/plain": [
       "   messages_included  mb_per_month_included  minutes_included  \\\n",
       "1               1000                  30720              3000   \n",
       "\n",
       "   usd_monthly_pay  usd_per_gb  usd_per_message  usd_per_minute plan_name  \n",
       "1               70           7             0.01            0.01  ultimate  "
      ]
     },
     "execution_count": 138,
     "metadata": {},
     "output_type": "execute_result"
    }
   ],
   "source": [
    "megaline_plans.sample()"
   ]
  },
  {
   "cell_type": "code",
   "execution_count": 139,
   "metadata": {},
   "outputs": [
    {
     "data": {
      "text/html": [
       "<div>\n",
       "<style scoped>\n",
       "    .dataframe tbody tr th:only-of-type {\n",
       "        vertical-align: middle;\n",
       "    }\n",
       "\n",
       "    .dataframe tbody tr th {\n",
       "        vertical-align: top;\n",
       "    }\n",
       "\n",
       "    .dataframe thead th {\n",
       "        text-align: right;\n",
       "    }\n",
       "</style>\n",
       "<table border=\"1\" class=\"dataframe\">\n",
       "  <thead>\n",
       "    <tr style=\"text-align: right;\">\n",
       "      <th></th>\n",
       "      <th>messages_included</th>\n",
       "      <th>mb_per_month_included</th>\n",
       "      <th>minutes_included</th>\n",
       "      <th>usd_monthly_pay</th>\n",
       "      <th>usd_per_gb</th>\n",
       "      <th>usd_per_message</th>\n",
       "      <th>usd_per_minute</th>\n",
       "      <th>plan_name</th>\n",
       "    </tr>\n",
       "  </thead>\n",
       "  <tbody>\n",
       "    <tr>\n",
       "      <th>0</th>\n",
       "      <td>50</td>\n",
       "      <td>15360</td>\n",
       "      <td>500</td>\n",
       "      <td>20</td>\n",
       "      <td>10</td>\n",
       "      <td>0.03</td>\n",
       "      <td>0.03</td>\n",
       "      <td>surf</td>\n",
       "    </tr>\n",
       "    <tr>\n",
       "      <th>1</th>\n",
       "      <td>1000</td>\n",
       "      <td>30720</td>\n",
       "      <td>3000</td>\n",
       "      <td>70</td>\n",
       "      <td>7</td>\n",
       "      <td>0.01</td>\n",
       "      <td>0.01</td>\n",
       "      <td>ultimate</td>\n",
       "    </tr>\n",
       "  </tbody>\n",
       "</table>\n",
       "</div>"
      ],
      "text/plain": [
       "   messages_included  mb_per_month_included  minutes_included  \\\n",
       "0                 50                  15360               500   \n",
       "1               1000                  30720              3000   \n",
       "\n",
       "   usd_monthly_pay  usd_per_gb  usd_per_message  usd_per_minute plan_name  \n",
       "0               20          10             0.03            0.03      surf  \n",
       "1               70           7             0.01            0.01  ultimate  "
      ]
     },
     "execution_count": 139,
     "metadata": {},
     "output_type": "execute_result"
    }
   ],
   "source": [
    "megaline_plans.head()"
   ]
  },
  {
   "cell_type": "markdown",
   "metadata": {},
   "source": [
    "<a id='users1'></a>\n",
    "<a id='users2'></a>"
   ]
  },
  {
   "cell_type": "markdown",
   "metadata": {},
   "source": [
    "#### 2.6 Users Dataset"
   ]
  },
  {
   "cell_type": "code",
   "execution_count": 140,
   "metadata": {},
   "outputs": [
    {
     "name": "stdout",
     "output_type": "stream",
     "text": [
      "<class 'pandas.core.frame.DataFrame'>\n",
      "RangeIndex: 500 entries, 0 to 499\n",
      "Data columns (total 8 columns):\n",
      " #   Column      Non-Null Count  Dtype \n",
      "---  ------      --------------  ----- \n",
      " 0   user_id     500 non-null    int64 \n",
      " 1   first_name  500 non-null    object\n",
      " 2   last_name   500 non-null    object\n",
      " 3   age         500 non-null    int64 \n",
      " 4   city        500 non-null    object\n",
      " 5   reg_date    500 non-null    object\n",
      " 6   plan        500 non-null    object\n",
      " 7   churn_date  34 non-null     object\n",
      "dtypes: int64(2), object(6)\n",
      "memory usage: 31.4+ KB\n"
     ]
    }
   ],
   "source": [
    "megaline_users.info()"
   ]
  },
  {
   "cell_type": "code",
   "execution_count": 141,
   "metadata": {},
   "outputs": [
    {
     "data": {
      "text/html": [
       "<div>\n",
       "<style scoped>\n",
       "    .dataframe tbody tr th:only-of-type {\n",
       "        vertical-align: middle;\n",
       "    }\n",
       "\n",
       "    .dataframe tbody tr th {\n",
       "        vertical-align: top;\n",
       "    }\n",
       "\n",
       "    .dataframe thead th {\n",
       "        text-align: right;\n",
       "    }\n",
       "</style>\n",
       "<table border=\"1\" class=\"dataframe\">\n",
       "  <thead>\n",
       "    <tr style=\"text-align: right;\">\n",
       "      <th></th>\n",
       "      <th>user_id</th>\n",
       "      <th>age</th>\n",
       "    </tr>\n",
       "  </thead>\n",
       "  <tbody>\n",
       "    <tr>\n",
       "      <th>count</th>\n",
       "      <td>500.000000</td>\n",
       "      <td>500.000000</td>\n",
       "    </tr>\n",
       "    <tr>\n",
       "      <th>mean</th>\n",
       "      <td>1249.500000</td>\n",
       "      <td>45.486000</td>\n",
       "    </tr>\n",
       "    <tr>\n",
       "      <th>std</th>\n",
       "      <td>144.481833</td>\n",
       "      <td>16.972269</td>\n",
       "    </tr>\n",
       "    <tr>\n",
       "      <th>min</th>\n",
       "      <td>1000.000000</td>\n",
       "      <td>18.000000</td>\n",
       "    </tr>\n",
       "    <tr>\n",
       "      <th>25%</th>\n",
       "      <td>1124.750000</td>\n",
       "      <td>30.000000</td>\n",
       "    </tr>\n",
       "    <tr>\n",
       "      <th>50%</th>\n",
       "      <td>1249.500000</td>\n",
       "      <td>46.000000</td>\n",
       "    </tr>\n",
       "    <tr>\n",
       "      <th>75%</th>\n",
       "      <td>1374.250000</td>\n",
       "      <td>61.000000</td>\n",
       "    </tr>\n",
       "    <tr>\n",
       "      <th>max</th>\n",
       "      <td>1499.000000</td>\n",
       "      <td>75.000000</td>\n",
       "    </tr>\n",
       "  </tbody>\n",
       "</table>\n",
       "</div>"
      ],
      "text/plain": [
       "           user_id         age\n",
       "count   500.000000  500.000000\n",
       "mean   1249.500000   45.486000\n",
       "std     144.481833   16.972269\n",
       "min    1000.000000   18.000000\n",
       "25%    1124.750000   30.000000\n",
       "50%    1249.500000   46.000000\n",
       "75%    1374.250000   61.000000\n",
       "max    1499.000000   75.000000"
      ]
     },
     "execution_count": 141,
     "metadata": {},
     "output_type": "execute_result"
    }
   ],
   "source": [
    "megaline_users.describe()"
   ]
  },
  {
   "cell_type": "code",
   "execution_count": 142,
   "metadata": {},
   "outputs": [
    {
     "data": {
      "text/html": [
       "<div>\n",
       "<style scoped>\n",
       "    .dataframe tbody tr th:only-of-type {\n",
       "        vertical-align: middle;\n",
       "    }\n",
       "\n",
       "    .dataframe tbody tr th {\n",
       "        vertical-align: top;\n",
       "    }\n",
       "\n",
       "    .dataframe thead th {\n",
       "        text-align: right;\n",
       "    }\n",
       "</style>\n",
       "<table border=\"1\" class=\"dataframe\">\n",
       "  <thead>\n",
       "    <tr style=\"text-align: right;\">\n",
       "      <th></th>\n",
       "      <th>user_id</th>\n",
       "      <th>first_name</th>\n",
       "      <th>last_name</th>\n",
       "      <th>age</th>\n",
       "      <th>city</th>\n",
       "      <th>reg_date</th>\n",
       "      <th>plan</th>\n",
       "      <th>churn_date</th>\n",
       "    </tr>\n",
       "  </thead>\n",
       "  <tbody>\n",
       "    <tr>\n",
       "      <th>40</th>\n",
       "      <td>1040</td>\n",
       "      <td>Paris</td>\n",
       "      <td>Santos</td>\n",
       "      <td>72</td>\n",
       "      <td>Philadelphia-Camden-Wilmington, PA-NJ-DE-MD MSA</td>\n",
       "      <td>2018-12-23</td>\n",
       "      <td>surf</td>\n",
       "      <td>2018-12-30</td>\n",
       "    </tr>\n",
       "  </tbody>\n",
       "</table>\n",
       "</div>"
      ],
      "text/plain": [
       "    user_id first_name last_name  age  \\\n",
       "40     1040      Paris    Santos   72   \n",
       "\n",
       "                                               city    reg_date  plan  \\\n",
       "40  Philadelphia-Camden-Wilmington, PA-NJ-DE-MD MSA  2018-12-23  surf   \n",
       "\n",
       "    churn_date  \n",
       "40  2018-12-30  "
      ]
     },
     "execution_count": 142,
     "metadata": {},
     "output_type": "execute_result"
    }
   ],
   "source": [
    "megaline_users.sample()"
   ]
  },
  {
   "cell_type": "code",
   "execution_count": 143,
   "metadata": {},
   "outputs": [
    {
     "data": {
      "text/html": [
       "<div>\n",
       "<style scoped>\n",
       "    .dataframe tbody tr th:only-of-type {\n",
       "        vertical-align: middle;\n",
       "    }\n",
       "\n",
       "    .dataframe tbody tr th {\n",
       "        vertical-align: top;\n",
       "    }\n",
       "\n",
       "    .dataframe thead th {\n",
       "        text-align: right;\n",
       "    }\n",
       "</style>\n",
       "<table border=\"1\" class=\"dataframe\">\n",
       "  <thead>\n",
       "    <tr style=\"text-align: right;\">\n",
       "      <th></th>\n",
       "      <th>user_id</th>\n",
       "      <th>first_name</th>\n",
       "      <th>last_name</th>\n",
       "      <th>age</th>\n",
       "      <th>city</th>\n",
       "      <th>reg_date</th>\n",
       "      <th>plan</th>\n",
       "      <th>churn_date</th>\n",
       "    </tr>\n",
       "  </thead>\n",
       "  <tbody>\n",
       "    <tr>\n",
       "      <th>0</th>\n",
       "      <td>1000</td>\n",
       "      <td>Anamaria</td>\n",
       "      <td>Bauer</td>\n",
       "      <td>45</td>\n",
       "      <td>Atlanta-Sandy Springs-Roswell, GA MSA</td>\n",
       "      <td>2018-12-24</td>\n",
       "      <td>ultimate</td>\n",
       "      <td>NaN</td>\n",
       "    </tr>\n",
       "    <tr>\n",
       "      <th>1</th>\n",
       "      <td>1001</td>\n",
       "      <td>Mickey</td>\n",
       "      <td>Wilkerson</td>\n",
       "      <td>28</td>\n",
       "      <td>Seattle-Tacoma-Bellevue, WA MSA</td>\n",
       "      <td>2018-08-13</td>\n",
       "      <td>surf</td>\n",
       "      <td>NaN</td>\n",
       "    </tr>\n",
       "    <tr>\n",
       "      <th>2</th>\n",
       "      <td>1002</td>\n",
       "      <td>Carlee</td>\n",
       "      <td>Hoffman</td>\n",
       "      <td>36</td>\n",
       "      <td>Las Vegas-Henderson-Paradise, NV MSA</td>\n",
       "      <td>2018-10-21</td>\n",
       "      <td>surf</td>\n",
       "      <td>NaN</td>\n",
       "    </tr>\n",
       "    <tr>\n",
       "      <th>3</th>\n",
       "      <td>1003</td>\n",
       "      <td>Reynaldo</td>\n",
       "      <td>Jenkins</td>\n",
       "      <td>52</td>\n",
       "      <td>Tulsa, OK MSA</td>\n",
       "      <td>2018-01-28</td>\n",
       "      <td>surf</td>\n",
       "      <td>NaN</td>\n",
       "    </tr>\n",
       "    <tr>\n",
       "      <th>4</th>\n",
       "      <td>1004</td>\n",
       "      <td>Leonila</td>\n",
       "      <td>Thompson</td>\n",
       "      <td>40</td>\n",
       "      <td>Seattle-Tacoma-Bellevue, WA MSA</td>\n",
       "      <td>2018-05-23</td>\n",
       "      <td>surf</td>\n",
       "      <td>NaN</td>\n",
       "    </tr>\n",
       "  </tbody>\n",
       "</table>\n",
       "</div>"
      ],
      "text/plain": [
       "   user_id first_name  last_name  age                                   city  \\\n",
       "0     1000   Anamaria      Bauer   45  Atlanta-Sandy Springs-Roswell, GA MSA   \n",
       "1     1001     Mickey  Wilkerson   28        Seattle-Tacoma-Bellevue, WA MSA   \n",
       "2     1002     Carlee    Hoffman   36   Las Vegas-Henderson-Paradise, NV MSA   \n",
       "3     1003   Reynaldo    Jenkins   52                          Tulsa, OK MSA   \n",
       "4     1004    Leonila   Thompson   40        Seattle-Tacoma-Bellevue, WA MSA   \n",
       "\n",
       "     reg_date      plan churn_date  \n",
       "0  2018-12-24  ultimate        NaN  \n",
       "1  2018-08-13      surf        NaN  \n",
       "2  2018-10-21      surf        NaN  \n",
       "3  2018-01-28      surf        NaN  \n",
       "4  2018-05-23      surf        NaN  "
      ]
     },
     "execution_count": 143,
     "metadata": {},
     "output_type": "execute_result"
    }
   ],
   "source": [
    "megaline_users.head()"
   ]
  },
  {
   "cell_type": "markdown",
   "metadata": {},
   "source": [
    "<a id='conclusion_dataset1'></a>\n",
    "<a id='conclusion_dataset2'></a>"
   ]
  },
  {
   "cell_type": "markdown",
   "metadata": {},
   "source": [
    "#### 2.7 Conclusion"
   ]
  },
  {
   "cell_type": "markdown",
   "metadata": {},
   "source": [
    "The first dataset contains the calls made, which contains about 137000 entries, including the metrics: <br> \n",
    "* `id` \n",
    "* `user_id`\n",
    "* `call_date`\n",
    "* `duration in minutes`  \n",
    "\n",
    "The lowest duration is 0. Thus could be indicator for missing calls. <br>\n",
    "However, the highest duration is about 38 minutes. <br>\n",
    "\n",
    "So far, nothing unusual here.\n",
    "\n",
    "\n",
    "The second dataset includes the data about the internet usage. Talking of the content, we got: <br>\n",
    "* `id`\n",
    "* `user_id` \n",
    "* `session_date` \n",
    "* `traffic caused in MegaByte` \n",
    "\n",
    "While the lowest usage is 0 MB which basically means the client haven´t caused any (mobile) traffic, the highest amount is 1693 MB or 1.693 GB.\n",
    "\n",
    "As above, nothing unusual. Zero usage may appear when a user only uses wifi connection. Many local places free wifi connection nowerdays. So nothing to concern about.\n",
    "\n",
    "The message dataset holds:\n",
    "* `id`\n",
    "* `user_id`\n",
    "* `the date when messages were sent`\n",
    "\n",
    "This is a typical exmaple of metadata.\n",
    "\n",
    "\n",
    "The plans dataset stores the information about the two products:\n",
    "* `surf`\n",
    "* `ultimate`\n",
    "\n",
    "\n",
    "Last but not least, the user dataset includes all important data about the client:\n",
    "* `name`\n",
    "* `age`\n",
    "* `city` \n",
    "* `date of registration` \n",
    "* `which plan is in use`\n",
    "* `churn date` \n",
    "\n",
    "Here we can find missing values in the churn date but that only means that the client hasn't churn."
   ]
  },
  {
   "cell_type": "markdown",
   "metadata": {},
   "source": [
    "[Back to top](#top) | [Back to Chapterstart: Loading Data](#Data2)"
   ]
  },
  {
   "cell_type": "markdown",
   "metadata": {},
   "source": [
    "------"
   ]
  },
  {
   "cell_type": "markdown",
   "metadata": {},
   "source": [
    "<a id='preprocessing1'></a>\n",
    "<a id='preprocessing2'></a>"
   ]
  },
  {
   "cell_type": "markdown",
   "metadata": {},
   "source": [
    "### 3. Data preprocessing"
   ]
  },
  {
   "cell_type": "markdown",
   "metadata": {},
   "source": [
    "#### Quick Links:\n",
    "[3.1 Converting to datetime](#convert_data2)  \n",
    "[3.2 Combination of all Datasets](#merged_dataset2) <br>\n",
    "[3.2.1 Preparation for calls dataset ](#prep_call_data2) <br>\n",
    "[3.2.2 Preparation for internet dataset](#prep_internet_data2) <br>\n",
    "[3.2.3 Preparation for messages dataset](#prep_messages_data2) <br>\n",
    "[3.2.4 Merge dataset](#merging_sets2) <br>\n",
    "[3.3 Fill missing values of the merged dataset](#fill_values2) <br>\n",
    "[3.4 Change datatypes of the merged dataset](#change_data_types2) <br>\n",
    "[3.5 Adding the monthly revenue per month](#add_month_revenue2) <br>\n",
    "[3.6 Conclusion](#conclusion_prep_data2) <br>"
   ]
  },
  {
   "cell_type": "markdown",
   "metadata": {},
   "source": [
    "<a id='convert_data1'></a>\n",
    "<a id='convert_data2'></a>"
   ]
  },
  {
   "cell_type": "markdown",
   "metadata": {},
   "source": [
    "#### 3.1 Converting the datetime"
   ]
  },
  {
   "cell_type": "code",
   "execution_count": 144,
   "metadata": {},
   "outputs": [],
   "source": [
    "date_format = '%Y-%m-%d'\n",
    "\n",
    "megaline_calls['call_date'] = pd.to_datetime(megaline_calls['call_date'], format = date_format)\n",
    "megaline_internet['session_date'] = pd.to_datetime(megaline_internet['session_date'], format = date_format)\n",
    "megaline_messages['message_date'] = pd.to_datetime(megaline_messages['message_date'], format = date_format)\n",
    "megaline_users['reg_date'] = pd.to_datetime(megaline_users['reg_date'], format = date_format)\n",
    "megaline_users['churn_date'] = pd.to_datetime(megaline_users['churn_date'], format = date_format)"
   ]
  },
  {
   "cell_type": "markdown",
   "metadata": {},
   "source": [
    "<a id='merged_dataset1'></a>\n",
    "<a id='merged_dataset2'></a>"
   ]
  },
  {
   "cell_type": "markdown",
   "metadata": {},
   "source": [
    "#### 3.2 Combination of all Datasets"
   ]
  },
  {
   "cell_type": "markdown",
   "metadata": {},
   "source": [
    "<a id='prep_call_data1'></a>\n",
    "<a id='prep_call_data2'></a>"
   ]
  },
  {
   "cell_type": "markdown",
   "metadata": {},
   "source": [
    "#### 3.2.1 Preparation for calls dataset"
   ]
  },
  {
   "cell_type": "code",
   "execution_count": 145,
   "metadata": {},
   "outputs": [
    {
     "data": {
      "text/html": [
       "<div>\n",
       "<style scoped>\n",
       "    .dataframe tbody tr th:only-of-type {\n",
       "        vertical-align: middle;\n",
       "    }\n",
       "\n",
       "    .dataframe tbody tr th {\n",
       "        vertical-align: top;\n",
       "    }\n",
       "\n",
       "    .dataframe thead th {\n",
       "        text-align: right;\n",
       "    }\n",
       "</style>\n",
       "<table border=\"1\" class=\"dataframe\">\n",
       "  <thead>\n",
       "    <tr style=\"text-align: right;\">\n",
       "      <th></th>\n",
       "      <th>user_id</th>\n",
       "      <th>month</th>\n",
       "      <th>duration</th>\n",
       "    </tr>\n",
       "  </thead>\n",
       "  <tbody>\n",
       "    <tr>\n",
       "      <th>0</th>\n",
       "      <td>1000</td>\n",
       "      <td>12</td>\n",
       "      <td>124</td>\n",
       "    </tr>\n",
       "    <tr>\n",
       "      <th>1</th>\n",
       "      <td>1001</td>\n",
       "      <td>8</td>\n",
       "      <td>182</td>\n",
       "    </tr>\n",
       "    <tr>\n",
       "      <th>2</th>\n",
       "      <td>1001</td>\n",
       "      <td>9</td>\n",
       "      <td>315</td>\n",
       "    </tr>\n",
       "    <tr>\n",
       "      <th>3</th>\n",
       "      <td>1001</td>\n",
       "      <td>10</td>\n",
       "      <td>393</td>\n",
       "    </tr>\n",
       "    <tr>\n",
       "      <th>4</th>\n",
       "      <td>1001</td>\n",
       "      <td>11</td>\n",
       "      <td>426</td>\n",
       "    </tr>\n",
       "  </tbody>\n",
       "</table>\n",
       "</div>"
      ],
      "text/plain": [
       "   user_id  month  duration\n",
       "0     1000     12       124\n",
       "1     1001      8       182\n",
       "2     1001      9       315\n",
       "3     1001     10       393\n",
       "4     1001     11       426"
      ]
     },
     "execution_count": 145,
     "metadata": {},
     "output_type": "execute_result"
    }
   ],
   "source": [
    "megaline_calls['month'] = pd.DatetimeIndex(megaline_calls['call_date']).month\n",
    "\n",
    "megaline_calls['duration'] = megaline_calls['duration'].apply(np.ceil).astype('int')\n",
    "\n",
    "clients_calls_grouped = megaline_calls.groupby(['user_id', 'month']).sum()\n",
    "clients_calls_grouped = clients_calls_grouped.reset_index()\n",
    "\n",
    "clients_calls_grouped.head()"
   ]
  },
  {
   "cell_type": "markdown",
   "metadata": {},
   "source": [
    "<a id='prep_internet_data1'></a>\n",
    "<a id='prep_internet_data2'></a>"
   ]
  },
  {
   "cell_type": "markdown",
   "metadata": {},
   "source": [
    "#### 3.2.2 Preparation for internet dataset"
   ]
  },
  {
   "cell_type": "code",
   "execution_count": 146,
   "metadata": {},
   "outputs": [
    {
     "data": {
      "text/html": [
       "<div>\n",
       "<style scoped>\n",
       "    .dataframe tbody tr th:only-of-type {\n",
       "        vertical-align: middle;\n",
       "    }\n",
       "\n",
       "    .dataframe tbody tr th {\n",
       "        vertical-align: top;\n",
       "    }\n",
       "\n",
       "    .dataframe thead th {\n",
       "        text-align: right;\n",
       "    }\n",
       "</style>\n",
       "<table border=\"1\" class=\"dataframe\">\n",
       "  <thead>\n",
       "    <tr style=\"text-align: right;\">\n",
       "      <th></th>\n",
       "      <th>user_id</th>\n",
       "      <th>month</th>\n",
       "      <th>gb_used</th>\n",
       "    </tr>\n",
       "  </thead>\n",
       "  <tbody>\n",
       "    <tr>\n",
       "      <th>0</th>\n",
       "      <td>1000</td>\n",
       "      <td>12</td>\n",
       "      <td>2.0</td>\n",
       "    </tr>\n",
       "    <tr>\n",
       "      <th>1</th>\n",
       "      <td>1001</td>\n",
       "      <td>8</td>\n",
       "      <td>7.0</td>\n",
       "    </tr>\n",
       "    <tr>\n",
       "      <th>2</th>\n",
       "      <td>1001</td>\n",
       "      <td>9</td>\n",
       "      <td>14.0</td>\n",
       "    </tr>\n",
       "    <tr>\n",
       "      <th>3</th>\n",
       "      <td>1001</td>\n",
       "      <td>10</td>\n",
       "      <td>22.0</td>\n",
       "    </tr>\n",
       "    <tr>\n",
       "      <th>4</th>\n",
       "      <td>1001</td>\n",
       "      <td>11</td>\n",
       "      <td>19.0</td>\n",
       "    </tr>\n",
       "  </tbody>\n",
       "</table>\n",
       "</div>"
      ],
      "text/plain": [
       "   user_id  month  gb_used\n",
       "0     1000     12      2.0\n",
       "1     1001      8      7.0\n",
       "2     1001      9     14.0\n",
       "3     1001     10     22.0\n",
       "4     1001     11     19.0"
      ]
     },
     "execution_count": 146,
     "metadata": {},
     "output_type": "execute_result"
    }
   ],
   "source": [
    "megaline_internet['month'] = pd.DatetimeIndex(megaline_internet['session_date']).month\n",
    "\n",
    "clients_internet_grouped = megaline_internet.groupby(['user_id', 'month']).sum()\n",
    "clients_internet_grouped = clients_internet_grouped.reset_index()\n",
    "\n",
    "clients_internet_grouped['gb_used'] = np.ceil(clients_internet_grouped['mb_used']/1024)\n",
    "clients_internet_grouped.drop(columns='mb_used', inplace=True)\n",
    "\n",
    "clients_internet_grouped.head()"
   ]
  },
  {
   "cell_type": "markdown",
   "metadata": {},
   "source": [
    "<a id='prep_messages_data1'></a>\n",
    "<a id='prep_messages_data2'></a>"
   ]
  },
  {
   "cell_type": "markdown",
   "metadata": {},
   "source": [
    "#### 3.2.3 Preparation for messages dataset"
   ]
  },
  {
   "cell_type": "code",
   "execution_count": 147,
   "metadata": {},
   "outputs": [
    {
     "data": {
      "text/html": [
       "<div>\n",
       "<style scoped>\n",
       "    .dataframe tbody tr th:only-of-type {\n",
       "        vertical-align: middle;\n",
       "    }\n",
       "\n",
       "    .dataframe tbody tr th {\n",
       "        vertical-align: top;\n",
       "    }\n",
       "\n",
       "    .dataframe thead th {\n",
       "        text-align: right;\n",
       "    }\n",
       "</style>\n",
       "<table border=\"1\" class=\"dataframe\">\n",
       "  <thead>\n",
       "    <tr style=\"text-align: right;\">\n",
       "      <th></th>\n",
       "      <th>user_id</th>\n",
       "      <th>month</th>\n",
       "      <th>messages</th>\n",
       "    </tr>\n",
       "  </thead>\n",
       "  <tbody>\n",
       "    <tr>\n",
       "      <th>0</th>\n",
       "      <td>1000</td>\n",
       "      <td>12</td>\n",
       "      <td>11</td>\n",
       "    </tr>\n",
       "    <tr>\n",
       "      <th>1</th>\n",
       "      <td>1001</td>\n",
       "      <td>8</td>\n",
       "      <td>30</td>\n",
       "    </tr>\n",
       "    <tr>\n",
       "      <th>2</th>\n",
       "      <td>1001</td>\n",
       "      <td>9</td>\n",
       "      <td>44</td>\n",
       "    </tr>\n",
       "    <tr>\n",
       "      <th>3</th>\n",
       "      <td>1001</td>\n",
       "      <td>10</td>\n",
       "      <td>53</td>\n",
       "    </tr>\n",
       "    <tr>\n",
       "      <th>4</th>\n",
       "      <td>1001</td>\n",
       "      <td>11</td>\n",
       "      <td>36</td>\n",
       "    </tr>\n",
       "  </tbody>\n",
       "</table>\n",
       "</div>"
      ],
      "text/plain": [
       "   user_id  month  messages\n",
       "0     1000     12        11\n",
       "1     1001      8        30\n",
       "2     1001      9        44\n",
       "3     1001     10        53\n",
       "4     1001     11        36"
      ]
     },
     "execution_count": 147,
     "metadata": {},
     "output_type": "execute_result"
    }
   ],
   "source": [
    "megaline_messages['month'] = pd.DatetimeIndex(megaline_messages['message_date']).month\n",
    "\n",
    "clients_messages_grouped = megaline_messages.groupby(['user_id', 'month']).count()\n",
    "                          \n",
    "clients_messages_grouped.drop(columns = 'message_date', inplace=True)\n",
    "clients_messages_grouped.rename(columns = {'id':'messages'}, inplace=True)\n",
    "clients_messages_grouped = clients_messages_grouped.reset_index()\n",
    "\n",
    "clients_messages_grouped.head()"
   ]
  },
  {
   "cell_type": "markdown",
   "metadata": {},
   "source": [
    "<a id='merging_sets1'></a>\n",
    "<a id='merging_sets2'></a>"
   ]
  },
  {
   "cell_type": "markdown",
   "metadata": {},
   "source": [
    "#### 3.2.4 Merge dataset"
   ]
  },
  {
   "cell_type": "code",
   "execution_count": 148,
   "metadata": {},
   "outputs": [
    {
     "name": "stdout",
     "output_type": "stream",
     "text": [
      "<class 'pandas.core.frame.DataFrame'>\n",
      "Int64Index: 2303 entries, 0 to 2302\n",
      "Data columns (total 10 columns):\n",
      " #   Column      Non-Null Count  Dtype         \n",
      "---  ------      --------------  -----         \n",
      " 0   user_id     2303 non-null   int64         \n",
      " 1   month       2293 non-null   float64       \n",
      " 2   duration    2258 non-null   float64       \n",
      " 3   gb_used     2277 non-null   float64       \n",
      " 4   messages    1806 non-null   float64       \n",
      " 5   plan        2303 non-null   object        \n",
      " 6   reg_date    2303 non-null   datetime64[ns]\n",
      " 7   city        2303 non-null   object        \n",
      " 8   churn_date  160 non-null    datetime64[ns]\n",
      " 9   age         2303 non-null   int64         \n",
      "dtypes: datetime64[ns](2), float64(4), int64(2), object(2)\n",
      "memory usage: 197.9+ KB\n"
     ]
    }
   ],
   "source": [
    "clients_information = megaline_users[{'user_id','plan','age','reg_date','churn_date','city'}]\n",
    "\n",
    "data_frames = [clients_calls_grouped, clients_internet_grouped, clients_messages_grouped]\n",
    "data_user = reduce(lambda left, right: pd.merge(left,right,on=['user_id', 'month'], how='outer'), data_frames)\n",
    "\n",
    "data_user = data_user.merge(clients_information, on ='user_id', how='outer')\n",
    "\n",
    "data_user.info()"
   ]
  },
  {
   "cell_type": "markdown",
   "metadata": {},
   "source": [
    "<a id='fill_values1'></a>\n",
    "<a id='fill_values2'></a>"
   ]
  },
  {
   "cell_type": "markdown",
   "metadata": {},
   "source": [
    "#### 3.3. Fill missing values of the merged dataset"
   ]
  },
  {
   "cell_type": "code",
   "execution_count": 149,
   "metadata": {},
   "outputs": [
    {
     "name": "stdout",
     "output_type": "stream",
     "text": [
      "<class 'pandas.core.frame.DataFrame'>\n",
      "Int64Index: 2293 entries, 0 to 2292\n",
      "Data columns (total 10 columns):\n",
      " #   Column      Non-Null Count  Dtype         \n",
      "---  ------      --------------  -----         \n",
      " 0   user_id     2293 non-null   int64         \n",
      " 1   month       2293 non-null   float64       \n",
      " 2   duration    2293 non-null   float64       \n",
      " 3   gb_used     2293 non-null   float64       \n",
      " 4   messages    2293 non-null   float64       \n",
      " 5   plan        2293 non-null   object        \n",
      " 6   reg_date    2293 non-null   datetime64[ns]\n",
      " 7   city        2293 non-null   object        \n",
      " 8   churn_date  2293 non-null   object        \n",
      " 9   age         2293 non-null   int64         \n",
      "dtypes: datetime64[ns](1), float64(4), int64(2), object(3)\n",
      "memory usage: 197.1+ KB\n"
     ]
    }
   ],
   "source": [
    "data_user.dropna(subset = ['month'], inplace = True)\n",
    "data_user['churn_date'].fillna('active', inplace=True)\n",
    "data_user.fillna(0, inplace=True)\n",
    "\n",
    "data_user.info()"
   ]
  },
  {
   "cell_type": "markdown",
   "metadata": {},
   "source": [
    "<a id='change_data_types1'></a>\n",
    "<a id='change_data_types2'></a>"
   ]
  },
  {
   "cell_type": "markdown",
   "metadata": {},
   "source": [
    "#### 3.4 Change datatypes of the merged dataset"
   ]
  },
  {
   "cell_type": "code",
   "execution_count": 150,
   "metadata": {},
   "outputs": [
    {
     "name": "stdout",
     "output_type": "stream",
     "text": [
      "<class 'pandas.core.frame.DataFrame'>\n",
      "Int64Index: 2293 entries, 0 to 2292\n",
      "Data columns (total 10 columns):\n",
      " #   Column      Non-Null Count  Dtype         \n",
      "---  ------      --------------  -----         \n",
      " 0   user_id     2293 non-null   int64         \n",
      " 1   month       2293 non-null   int64         \n",
      " 2   duration    2293 non-null   int64         \n",
      " 3   gb_used     2293 non-null   int64         \n",
      " 4   messages    2293 non-null   int64         \n",
      " 5   plan        2293 non-null   object        \n",
      " 6   reg_date    2293 non-null   datetime64[ns]\n",
      " 7   city        2293 non-null   object        \n",
      " 8   churn_date  2293 non-null   object        \n",
      " 9   age         2293 non-null   int64         \n",
      "dtypes: datetime64[ns](1), int64(6), object(3)\n",
      "memory usage: 197.1+ KB\n"
     ]
    }
   ],
   "source": [
    "data_user['month'] = data_user['month'].astype('int')\n",
    "data_user['duration'] = data_user['duration'].astype('int')\n",
    "data_user['messages'] = data_user['messages'].astype('int')\n",
    "data_user['gb_used'] = data_user['gb_used'].astype('int')\n",
    "\n",
    "data_user.info()"
   ]
  },
  {
   "cell_type": "markdown",
   "metadata": {},
   "source": [
    "<a id='add_month_revenue1'></a>\n",
    "<a id='add_month_revenue2'></a>"
   ]
  },
  {
   "cell_type": "markdown",
   "metadata": {},
   "source": [
    "#### 3.5 Adding monthly revenue per month"
   ]
  },
  {
   "cell_type": "code",
   "execution_count": 151,
   "metadata": {},
   "outputs": [],
   "source": [
    "def monthly_revenue(row):\n",
    "    minutes = row['duration']\n",
    "    gb = row['gb_used']\n",
    "    messages = row['messages']\n",
    "    plan = row['plan']\n",
    "    \n",
    "    fix_charge = 0\n",
    "    extra_minutes = 0\n",
    "    extra_gb = 0\n",
    "    extra_messages = 0\n",
    "    \n",
    "    if plan == 'surf':\n",
    "        fix_charge = 20\n",
    "        if minutes > 500:\n",
    "            extra_minutes = (minutes - 500) * 0.03\n",
    "        if gb > 15:\n",
    "            extra_gb = (gb - 15) * 10\n",
    "        if messages > 50:\n",
    "            extra_messages = (messages - 50) * 0.03\n",
    "    elif plan == 'ultimate':\n",
    "        fix_charge = 70\n",
    "        if minutes > 3000:\n",
    "            extra_minutes = (minutes - 3000) * 0.01\n",
    "        if gb > 30:\n",
    "            extra_gb = (gb - 30) * 7\n",
    "        if messages > 1000:\n",
    "            extra_messages = (messages - 1000) * 0.01\n",
    "            \n",
    "    return fix_charge + extra_minutes + extra_gb + extra_messages"
   ]
  },
  {
   "cell_type": "code",
   "execution_count": 152,
   "metadata": {},
   "outputs": [
    {
     "name": "stdout",
     "output_type": "stream",
     "text": [
      "<class 'pandas.core.frame.DataFrame'>\n",
      "Int64Index: 2293 entries, 0 to 2292\n",
      "Data columns (total 11 columns):\n",
      " #   Column      Non-Null Count  Dtype         \n",
      "---  ------      --------------  -----         \n",
      " 0   user_id     2293 non-null   int64         \n",
      " 1   month       2293 non-null   int64         \n",
      " 2   duration    2293 non-null   int64         \n",
      " 3   gb_used     2293 non-null   int64         \n",
      " 4   messages    2293 non-null   int64         \n",
      " 5   plan        2293 non-null   object        \n",
      " 6   reg_date    2293 non-null   datetime64[ns]\n",
      " 7   city        2293 non-null   object        \n",
      " 8   churn_date  2293 non-null   object        \n",
      " 9   age         2293 non-null   int64         \n",
      " 10  revenue     2293 non-null   float64       \n",
      "dtypes: datetime64[ns](1), float64(1), int64(6), object(3)\n",
      "memory usage: 215.0+ KB\n"
     ]
    }
   ],
   "source": [
    "data_user['revenue'] = data_user.apply(monthly_revenue, axis = 1)\n",
    "data_user.info()"
   ]
  },
  {
   "cell_type": "markdown",
   "metadata": {},
   "source": [
    "<a id='conclusion_prep_data1'></a>\n",
    "<a id='conclusion_prep_data2'></a>"
   ]
  },
  {
   "cell_type": "markdown",
   "metadata": {},
   "source": [
    "#### 3.6 Conclusion"
   ]
  },
  {
   "cell_type": "markdown",
   "metadata": {},
   "source": [
    "With the beginning of the preprocessing, we needed to change the formats of dates (hereby as string, means those are object format) into datetime format for our further steps.\n",
    "\n",
    "Following up to merge all the tables into one, we need to prepare the single ones first. To do so, we added \n",
    "a new column `month` to the following datasets:\n",
    "\n",
    "* **megaline_calls**\n",
    "* **megaline_internet**\n",
    "* **megaline_messages**\n",
    "\n",
    "In addition, the columns `age`, `city` , `churn_date` and `plan reg_date` were extracted for adding to our new dataset later on.\n",
    "\n",
    "Now we had merged every table to one, we checked missing values. We identifyed NaN values in the\n",
    "`churn_date`, `duration`, `gb_used` , `messages` and `month` column.\n",
    "\n",
    "\n",
    "\n",
    "| **NaN Column** | **possible reason** | **approach** |\n",
    "| ----------- | ----------- |----------- |\n",
    "| churn_date | Missing value could be an indicator that the user is an active customer | change NaN to active (string) |\n",
    "| duration | can occur, as it means the customer has no calltime. Looks reasonable  | change NaN to 0 |\n",
    "| gb_used | can occur, as it means the customer has no data traffic consumed. Looks reasonable | change NaN to 0 |\n",
    "| messages | Could mean the customer has not send any messages, which can be reasonable, concidering the downfall of sms| change NaN to 0 |\n",
    "| month | could be the result of an system failure, however, happens only 10 times | delete columns with missing values |\n",
    "\n",
    "\n",
    "After handling the missing values, we need to adjust the datatypes again. This time from floating to integer for:\n",
    "`duration`, `gb_used` and `messages`. \n",
    "\n",
    "Finishing of our preprocessing, we still needed to calcualte and add a revenue column to our table, now the missing values were distinguished. To do so, we wrote a function to calculate the MRR (monthly recorring revenue)."
   ]
  },
  {
   "cell_type": "markdown",
   "metadata": {},
   "source": [
    "[Back to top](#top) | [Back to Chapterstart: Data preprocessing](#preprocessing2)"
   ]
  },
  {
   "cell_type": "markdown",
   "metadata": {},
   "source": [
    "---"
   ]
  },
  {
   "cell_type": "markdown",
   "metadata": {},
   "source": [
    "<a id='Analysis1'></a>\n",
    "<a id='Analysis2'></a>"
   ]
  },
  {
   "cell_type": "markdown",
   "metadata": {},
   "source": [
    "### 4. Data Analysis"
   ]
  },
  {
   "cell_type": "markdown",
   "metadata": {},
   "source": [
    "#### Quick Links:\n",
    "[4.1 Split to surf and ultimate plan](#split_plans2) <br> \n",
    "[4.2 Data volume usage by month...](#volume_data2) <br> \n",
    "[4.2.1 ...by duration](#by_duration2) <br> \n",
    "[4.2.2 ...by GB usage](#by_gb_usage2) <br> \n",
    "[4.2.3 ...by messages](#by_messages2) <br> \n",
    "[4.3 Histogram and Standard Deviation...](#hst_std2)  <br> \n",
    "[4.3.1 ...by duration](#by_duration22)<br> \n",
    "[4.3.2 ...by GB usage](#by_gb_usage22)<br> \n",
    "[4.3.3 ...by messages](#by_messages22)<br> \n",
    "[4.4 Conclusion](#concl_data2) <br> "
   ]
  },
  {
   "cell_type": "markdown",
   "metadata": {},
   "source": [
    "<a id='split_plans1'></a>\n",
    "<a id='split_plans2'></a>"
   ]
  },
  {
   "cell_type": "markdown",
   "metadata": {},
   "source": [
    "#### 4.1 Split to surf and ultimate plan"
   ]
  },
  {
   "cell_type": "code",
   "execution_count": 153,
   "metadata": {},
   "outputs": [],
   "source": [
    "data_plan_surf = data_user[data_user['plan'] == 'surf']\n",
    "data_plan_ultimate = data_user[data_user['plan'] == 'ultimate']"
   ]
  },
  {
   "cell_type": "markdown",
   "metadata": {},
   "source": [
    "<a id='volume_data1'></a>\n",
    "<a id='volume_data2'></a>"
   ]
  },
  {
   "cell_type": "markdown",
   "metadata": {},
   "source": [
    "#### 4.2 Data Volume usage by month..."
   ]
  },
  {
   "cell_type": "code",
   "execution_count": 154,
   "metadata": {},
   "outputs": [
    {
     "name": "stdout",
     "output_type": "stream",
     "text": [
      "Customers using plan surf: 333\n",
      "Customers using plan ultimate: 157\n",
      "\n",
      "Average revenue plan surf: 60.71\n",
      "Average revenue plan ultimate: 72.31\n"
     ]
    }
   ],
   "source": [
    "print('Customers using plan surf:', len(data_plan_surf.groupby('user_id')))\n",
    "print('Customers using plan ultimate:', len(data_plan_ultimate.groupby('user_id')))\n",
    "print()\n",
    "print('Average revenue plan surf: {:.2f}'.format(data_plan_surf['revenue'].mean()))\n",
    "print('Average revenue plan ultimate: {:.2f}'.format(data_plan_ultimate['revenue'].mean()))"
   ]
  },
  {
   "cell_type": "code",
   "execution_count": 168,
   "metadata": {},
   "outputs": [],
   "source": [
    "def monthly_volume(item, data_plan_surf=data_plan_surf, data_plan_ultimate=data_plan_ultimate):\n",
    "    \n",
    "    volume_surf = data_plan_surf.groupby('month')[item].mean().rename('surf')\n",
    "    volume_ultimate = data_plan_ultimate.groupby('month')[item].mean().rename('ultimate')\n",
    "    volume_plot = pd.concat([volume_surf,volume_ultimate], axis = 1)\n",
    "    \n",
    "    ax = volume_plot.plot(kind='bar', color = ['skyblue', 'slategrey'], title = item)\n",
    "    \n",
    "    if item == 'duration':\n",
    "        ax.set_ylabel('{} in minutes'.format(item))\n",
    "    elif item == 'gb_used':\n",
    "        ax.set_ylabel('GB usage')\n",
    "    else:\n",
    "        ax.set_ylabel('n {} sent'.format(item))\n",
    "    \n",
    "    \n",
    "    print('Volume surf by: {}'.format(item))\n",
    "    print(volume_surf.head(15).round(2))\n",
    "    print()\n",
    "    print('Plan ultimate by: {}'.format(item))\n",
    "    print(volume_ultimate.head(15).round(2))"
   ]
  },
  {
   "cell_type": "markdown",
   "metadata": {},
   "source": [
    "<a id='by_duration1'></a>\n",
    "<a id='by_duration2'></a>"
   ]
  },
  {
   "cell_type": "markdown",
   "metadata": {},
   "source": [
    "#### 4.2.1 ...by duration"
   ]
  },
  {
   "cell_type": "code",
   "execution_count": 166,
   "metadata": {},
   "outputs": [
    {
     "name": "stdout",
     "output_type": "stream",
     "text": [
      "Volume surf by: duration\n",
      "month\n",
      "1     203.00\n",
      "2     297.00\n",
      "3     330.00\n",
      "4     351.54\n",
      "5     399.58\n",
      "6     431.30\n",
      "7     449.98\n",
      "8     410.11\n",
      "9     414.23\n",
      "10    429.73\n",
      "11    423.33\n",
      "12    473.84\n",
      "Name: surf, dtype: float64\n",
      "\n",
      "Plan ultimate by: duration\n",
      "month\n",
      "1     193.50\n",
      "2     403.14\n",
      "3     304.25\n",
      "4     336.86\n",
      "5     406.24\n",
      "6     370.96\n",
      "7     427.07\n",
      "8     421.44\n",
      "9     437.51\n",
      "10    450.74\n",
      "11    445.20\n",
      "12    459.10\n",
      "Name: ultimate, dtype: float64\n"
     ]
    },
    {
     "data": {
      "image/png": "[encoded data removed]",
      "text/plain": [
       "<Figure size 432x288 with 1 Axes>"
      ]
     },
     "metadata": {
      "needs_background": "light"
     },
     "output_type": "display_data"
    }
   ],
   "source": [
    "monthly_volume('duration')"
   ]
  },
  {
   "cell_type": "markdown",
   "metadata": {},
   "source": [
    "Both plans have in common a nearly progressiv growth, with small differences in their respective fluctuation. While their decrease within their progression differentiated in the month, those month are regardless in summer. This could mean, that the majority of the respective user group are on vacation and thus, are visting foreign contries where roaming fees may apply, which the users tryed to avoid.\n",
    "\n",
    "Another interesting insight is the relation between january and december consumption, as its in the end of the year twice as in the beginning."
   ]
  },
  {
   "cell_type": "markdown",
   "metadata": {},
   "source": [
    "<a id='by_gb_usage1'></a>\n",
    "<a id='by_gb_usage2'></a>"
   ]
  },
  {
   "cell_type": "markdown",
   "metadata": {},
   "source": [
    "#### 4.2.2 ...by GB usage"
   ]
  },
  {
   "cell_type": "code",
   "execution_count": 169,
   "metadata": {},
   "outputs": [
    {
     "name": "stdout",
     "output_type": "stream",
     "text": [
      "Volume surf by: gb_used\n",
      "month\n",
      "1      5.00\n",
      "2     12.22\n",
      "3     13.57\n",
      "4     12.22\n",
      "5     14.12\n",
      "6     15.48\n",
      "7     16.88\n",
      "8     16.88\n",
      "9     16.69\n",
      "10    17.41\n",
      "11    16.43\n",
      "12    18.24\n",
      "Name: surf, dtype: float64\n",
      "\n",
      "Plan ultimate by: gb_used\n",
      "month\n",
      "1      7.25\n",
      "2     17.29\n",
      "3     18.42\n",
      "4     16.33\n",
      "5     16.86\n",
      "6     15.43\n",
      "7     16.49\n",
      "8     17.85\n",
      "9     17.01\n",
      "10    17.72\n",
      "11    17.12\n",
      "12    18.40\n",
      "Name: ultimate, dtype: float64\n"
     ]
    },
    {
     "data": {
      "image/png": "[encoded data removed]",
      "text/plain": [
       "<Figure size 432x288 with 1 Axes>"
      ]
     },
     "metadata": {
      "needs_background": "light"
     },
     "output_type": "display_data"
    }
   ],
   "source": [
    "monthly_volume('gb_used')"
   ]
  },
  {
   "cell_type": "markdown",
   "metadata": {},
   "source": [
    "It's clear to see that the traffic usage in GB from ultimate plan are on alomost every month above 15 GB. This seems to be a lot compared to the surf plan. However, the ultimate plan offers a data volumen twice as much as the surf plan. We will take this info for our chapter conclusion."
   ]
  },
  {
   "cell_type": "markdown",
   "metadata": {},
   "source": [
    "<a id='by_messages1'></a>\n",
    "<a id='by_messages2'></a>"
   ]
  },
  {
   "cell_type": "markdown",
   "metadata": {},
   "source": [
    "#### 4.2.3 ...by messages"
   ]
  },
  {
   "cell_type": "code",
   "execution_count": 170,
   "metadata": {},
   "outputs": [
    {
     "name": "stdout",
     "output_type": "stream",
     "text": [
      "Volume surf by: messages\n",
      "month\n",
      "1     10.50\n",
      "2     12.00\n",
      "3     15.26\n",
      "4     17.40\n",
      "5     24.01\n",
      "6     25.30\n",
      "7     27.03\n",
      "8     28.78\n",
      "9     30.76\n",
      "10    33.84\n",
      "11    32.39\n",
      "12    38.60\n",
      "Name: surf, dtype: float64\n",
      "\n",
      "Plan ultimate by: messages\n",
      "month\n",
      "1     15.50\n",
      "2     21.57\n",
      "3     20.25\n",
      "4     22.05\n",
      "5     32.10\n",
      "6     29.34\n",
      "7     32.83\n",
      "8     38.48\n",
      "9     37.90\n",
      "10    39.44\n",
      "11    38.61\n",
      "12    45.01\n",
      "Name: ultimate, dtype: float64\n"
     ]
    },
    {
     "data": {
      "image/png": "[encoded data removed]",
      "text/plain": [
       "<Figure size 432x288 with 1 Axes>"
      ]
     },
     "metadata": {
      "needs_background": "light"
     },
     "output_type": "display_data"
    }
   ],
   "source": [
    "monthly_volume('messages')"
   ]
  },
  {
   "cell_type": "markdown",
   "metadata": {},
   "source": [
    "On average, there is an progressive growth on each plans. We could assume that New Years Eve is doing December a favour for being the peak of this chart. Another interessting point is on ultimates plan:\n",
    "Every time, at the years quarter, a small drop (compared to the sent messages from the previos month) occurs.\n",
    "Again, we'll take this conclusion to our chapter conclusion."
   ]
  },
  {
   "cell_type": "markdown",
   "metadata": {},
   "source": [
    "<a id='hst_std1'></a>\n",
    "<a id='hst_std2'></a>"
   ]
  },
  {
   "cell_type": "markdown",
   "metadata": {},
   "source": [
    "#### 4.3 Histogram and Standard Deviation..."
   ]
  },
  {
   "cell_type": "code",
   "execution_count": 159,
   "metadata": {},
   "outputs": [],
   "source": [
    "def hist_and_std(item, data_plan_surf=data_plan_surf, data_plan_ultimate=data_plan_ultimate):\n",
    "    \n",
    "    # plotting   \n",
    "    plt.hist(data_plan_surf[item], color = 'skyblue', density = True, alpha = 0.7)\n",
    "    plt.hist(data_plan_ultimate[item], color = 'slategrey', density = True, alpha = 0.7)\n",
    "    plt.title(item)\n",
    "    plt.xlabel('volume used')\n",
    "    plt.ylabel('density')\n",
    "    plt.legend(['surf', 'ultimate'])\n",
    "    plt.tight_layout()\n",
    "    plt.grid()\n",
    "    plt.show()\n",
    "    \n",
    "    print('Plan surf:')\n",
    "    print('Mean: {:.2f}'.format(data_plan_surf[item].mean()))\n",
    "    print('Standard deviation: {:.2f}'.format(data_plan_surf[item].std()))\n",
    "    print()\n",
    "    print('Plan ultimate:')\n",
    "    print('Mean: {:.2f}'.format(data_plan_ultimate[item].mean()))\n",
    "    print('Standard deviation: {:.2f}'.format(data_plan_ultimate[item].std()))"
   ]
  },
  {
   "cell_type": "markdown",
   "metadata": {},
   "source": [
    "<a id='by_duration11'></a>\n",
    "<a id='by_duration22'></a>"
   ]
  },
  {
   "cell_type": "markdown",
   "metadata": {},
   "source": [
    "#### 4.3.1 ...by duration"
   ]
  },
  {
   "cell_type": "code",
   "execution_count": 160,
   "metadata": {},
   "outputs": [
    {
     "data": {
      "image/png": "[encoded data removed]",
      "text/plain": [
       "<Figure size 432x288 with 1 Axes>"
      ]
     },
     "metadata": {
      "needs_background": "light"
     },
     "output_type": "display_data"
    },
    {
     "name": "stdout",
     "output_type": "stream",
     "text": [
      "Plan surf:\n",
      "Mean: 428.75\n",
      "Standard deviation: 234.45\n",
      "\n",
      "Plan ultimate:\n",
      "Mean: 430.45\n",
      "Standard deviation: 240.51\n"
     ]
    }
   ],
   "source": [
    "hist_and_std('duration')"
   ]
  },
  {
   "cell_type": "markdown",
   "metadata": {},
   "source": [
    "The standard deviation on both sides is nearly the same. Both histograms are skewed to the left, since the majority of the users with a call duration (volume used) between zero value to the mean value. Afterwards, the amount of users decreases significantly."
   ]
  },
  {
   "cell_type": "markdown",
   "metadata": {},
   "source": [
    "<a id='by_gb_usage11'></a>\n",
    "<a id='by_gb_usage22'></a>"
   ]
  },
  {
   "cell_type": "markdown",
   "metadata": {},
   "source": [
    "#### 4.3.2 ...by GB usage"
   ]
  },
  {
   "cell_type": "code",
   "execution_count": 161,
   "metadata": {
    "scrolled": false
   },
   "outputs": [
    {
     "data": {
      "image/png": "[encoded data removed]",
      "text/plain": [
       "<Figure size 432x288 with 1 Axes>"
      ]
     },
     "metadata": {
      "needs_background": "light"
     },
     "output_type": "display_data"
    },
    {
     "name": "stdout",
     "output_type": "stream",
     "text": [
      "Plan surf:\n",
      "Mean: 16.67\n",
      "Standard deviation: 7.85\n",
      "\n",
      "Plan ultimate:\n",
      "Mean: 17.31\n",
      "Standard deviation: 7.67\n"
     ]
    }
   ],
   "source": [
    "hist_and_std('gb_used')"
   ]
  },
  {
   "cell_type": "markdown",
   "metadata": {},
   "source": [
    "The distribution of the gb_used histograms are both normal distributed with a standard deviation of 7.85 by surf plan and 7.67 by ultimate plan. This is the reason why the dipsertion has a high peak and falls significantly before and after the mean."
   ]
  },
  {
   "cell_type": "markdown",
   "metadata": {},
   "source": [
    "<a id='by_messages11'></a>\n",
    "<a id='by_messages22'></a>"
   ]
  },
  {
   "cell_type": "markdown",
   "metadata": {},
   "source": [
    "#### 4.3.3 ...by messages"
   ]
  },
  {
   "cell_type": "code",
   "execution_count": 162,
   "metadata": {},
   "outputs": [
    {
     "data": {
      "image/png": "[encoded data removed]",
      "text/plain": [
       "<Figure size 432x288 with 1 Axes>"
      ]
     },
     "metadata": {
      "needs_background": "light"
     },
     "output_type": "display_data"
    },
    {
     "name": "stdout",
     "output_type": "stream",
     "text": [
      "Plan surf:\n",
      "Mean: 31.16\n",
      "Standard deviation: 33.57\n",
      "\n",
      "Plan ultimate:\n",
      "Mean: 37.55\n",
      "Standard deviation: 34.77\n"
     ]
    }
   ],
   "source": [
    "hist_and_std('messages')"
   ]
  },
  {
   "cell_type": "markdown",
   "metadata": {},
   "source": [
    "The messages data is skewed to the right, which means that there is a huge amount of customers which use messages rarely or not at all. It seems that the customer don´t need the messages and propably use online message services. "
   ]
  },
  {
   "cell_type": "markdown",
   "metadata": {},
   "source": [
    "<a id='concl_data1'></a>\n",
    "<a id='concl_data2'></a>"
   ]
  },
  {
   "cell_type": "markdown",
   "metadata": {},
   "source": [
    "#### 4.4 Conclusion"
   ]
  },
  {
   "cell_type": "markdown",
   "metadata": {},
   "source": [
    "As teased before, we'll take our gained insights at this point for the chapter conclusion.\n",
    "\n",
    "It's clear to see that the traffic usage in GB from ultimate plan are on alomost every month above 15 GB. Taking the full download volume of 30 GB from that plan in concideration, the product owner should re-think the ultimate package and recudes the offered volume by 20-30% and offering the remaining volume as add-on packages.\n",
    "\n",
    "If we take a look to the ultimate plan users we can see that they are using slightly more volume than the surf users in all 3 areas. But the increase of the volume is very low when we compare their used volume with the max volume they could have used by that plan. \n",
    "\n",
    "Overall, they use about 15% of the included minutes, 58% of the included gb and only 4% of the included messages. In fact that they are paying 70 $ for their plan, they are paying way more than they are actually using. Summarized, the company sells more then they have to provide, hence the company benefits a lot more from the low usage of the ultimate plan users than the surf users. "
   ]
  },
  {
   "cell_type": "markdown",
   "metadata": {},
   "source": [
    "[Back to top](#top) | [Back to Chapterstart: Data Analysis](#Analysis2)"
   ]
  },
  {
   "cell_type": "markdown",
   "metadata": {},
   "source": [
    "---"
   ]
  },
  {
   "cell_type": "markdown",
   "metadata": {},
   "source": [
    "<a id='Hypo1'></a>\n",
    "<a id='Hypo2'></a>"
   ]
  },
  {
   "cell_type": "markdown",
   "metadata": {},
   "source": [
    "### 5. Hypothese testing"
   ]
  },
  {
   "cell_type": "markdown",
   "metadata": {},
   "source": [
    "#### Quick Links:\n",
    "[5.1 Test the hypotheses](#testing2)  <br>\n",
    "[5.1.1 Average revenue from users of Surf and Ultimate calling plans differences](#average_rev_by_plans2) <br>\n",
    "[5.1.2 Average revenue from users in NY-NJ area differs from users form other regions](#average_rev_by_regions2) <br>\n",
    "[5.2 Conclusion](#conclusion_hypo2) <br>"
   ]
  },
  {
   "cell_type": "markdown",
   "metadata": {},
   "source": [
    "<a id='testing1'></a>\n",
    "<a id='testing2'></a>"
   ]
  },
  {
   "cell_type": "markdown",
   "metadata": {},
   "source": [
    "#### 5.1 Test the hypotheses"
   ]
  },
  {
   "cell_type": "markdown",
   "metadata": {},
   "source": [
    "<a id='average_rev_by_plans1'></a>\n",
    "<a id='average_rev_by_plans2'></a>"
   ]
  },
  {
   "cell_type": "markdown",
   "metadata": {},
   "source": [
    "#### 5.1.1 The average revenue from users of Ultimate and Surf calling plans differs"
   ]
  },
  {
   "cell_type": "code",
   "execution_count": 163,
   "metadata": {},
   "outputs": [
    {
     "name": "stdout",
     "output_type": "stream",
     "text": [
      "Variance revenue surf:  1897.9116226478002\n",
      "Variance revenue ultimate:  55.12714659851139\n",
      "p-value:  5.719435130362411e-08\n",
      "We reject the null hypothesis\n"
     ]
    }
   ],
   "source": [
    "revenue_surf = data_plan_surf.pivot_table(index='user_id', values='revenue')['revenue']\n",
    "revenue_ultimate = data_plan_ultimate.pivot_table(index='user_id', values='revenue')['revenue']\n",
    "\n",
    "print('Variance revenue surf: ', revenue_surf.var())\n",
    "print('Variance revenue ultimate: ', revenue_ultimate.var())\n",
    "\n",
    "\n",
    "alpha = 0.05\n",
    "\n",
    "results = st.ttest_ind(revenue_surf,revenue_ultimate, equal_var = False)\n",
    "print('p-value: ',results.pvalue)\n",
    "\n",
    "if (results.pvalue < alpha):\n",
    "    print('We reject the null hypothesis')\n",
    "else:\n",
    "    print('We can´t reject the null hypothesis')"
   ]
  },
  {
   "cell_type": "markdown",
   "metadata": {},
   "source": [
    "<a id='average_rev_by_regions1'></a>\n",
    "<a id='average_rev_by_regions2'></a>"
   ]
  },
  {
   "cell_type": "markdown",
   "metadata": {},
   "source": [
    "#### 5.1.2 Average revenue from users in NY-NJ area differs from that of the users from other regions"
   ]
  },
  {
   "cell_type": "code",
   "execution_count": 164,
   "metadata": {},
   "outputs": [
    {
     "name": "stdout",
     "output_type": "stream",
     "text": [
      "Variance revenue surf:  1072.0487248450029\n",
      "Variance revenue ultimate:  1400.5684341454555\n",
      "p-value:  0.44104821081481804\n",
      "We can´t reject the null hypothesis\n"
     ]
    }
   ],
   "source": [
    "revenue_NY_NJ = data_user[data_user['city'].str.contains('NY-NJ')].groupby('user_id')['revenue'].mean()\n",
    "revenue_other = data_user[~(data_user['city'].str.contains('NY-NJ'))].groupby('user_id')['revenue'].mean()\n",
    "\n",
    "print('Variance revenue surf: ', revenue_NY_NJ.var())\n",
    "print('Variance revenue ultimate: ', revenue_other.var())\n",
    "\n",
    "alpha = 0.05\n",
    "\n",
    "results = st.ttest_ind(revenue_NY_NJ,revenue_other, equal_var = False)\n",
    "print('p-value: ',results.pvalue)\n",
    "\n",
    "if (results.pvalue < alpha):\n",
    "    print('We reject the null hypothesis')\n",
    "else:\n",
    "    print('We can´t reject the null hypothesis')"
   ]
  },
  {
   "cell_type": "markdown",
   "metadata": {},
   "source": [
    "<a id='conclusion_hypo1'></a>\n",
    "<a id='conclusion_hypo2'></a>"
   ]
  },
  {
   "cell_type": "markdown",
   "metadata": {},
   "source": [
    "#### 5.2 Conclusion"
   ]
  },
  {
   "cell_type": "markdown",
   "metadata": {},
   "source": [
    "We tested two hypotheses to get an answer to the question:\n",
    "\n",
    "* does the average revenue of the two plan differs?\n",
    "* does the average revenue from users in NY-NJ area is different from that of the user from other regions?  \n",
    "  \n",
    "For the first test we extracted the revenue of the two plans in two variables and used them in the function `st.ttest_ind` to get the `p.value`. The `p.value` is 5.719435130362408e-08, so pretty low and lower then our alpha variable 0.05. That means that the probabilty is very small that there is no difference between the two revenues caused by variance, hence we can reject the null hypothesis and confirm the alternative hypothesis that the revenue of ultimate and surf plan differs. \n",
    "\n",
    "For the second test we filtered the region from the data_user dataset using the `str.contains()` method and divided between the revenue by user of NY-NJ area and other areas. Then we used the `st.ttest_ind()` again to get the \n",
    "`p-value`. In this case the `p-value` is 0.44104821081481804 so way higher than our alpha of 0.05. This result in the fact that we can´t reject the null hypothesis, as the difference of the regions revenue could be caused by variance. Therefore we cannot confirm that the average revenue from users in NY-NJ area differs from that of the users from other regions. "
   ]
  },
  {
   "cell_type": "markdown",
   "metadata": {},
   "source": [
    "[Back to top](#top) | [Back to Chapterstart: Hypthesis testing](#Hypo2)"
   ]
  },
  {
   "cell_type": "markdown",
   "metadata": {},
   "source": [
    "---"
   ]
  },
  {
   "cell_type": "markdown",
   "metadata": {},
   "source": [
    "<a id='final_concl'></a>"
   ]
  },
  {
   "cell_type": "markdown",
   "metadata": {},
   "source": [
    "### 6. Final Conclusion"
   ]
  },
  {
   "cell_type": "markdown",
   "metadata": {},
   "source": [
    "We analyzed the data and tested two hypotheses. Within those, we learned about the customer usage behaivior setup some kind of customer profiling. The company's cash cow is the ultimate plan, even if less than half of the customer, compared to the surf-plan user, are using it. \n",
    "\n",
    "\n",
    "| **Product** | **User Base** | **Average monthly revenue** |\n",
    "| ----------- | ----------- |----------- |\n",
    "| surf | 333 | 60.71 USD |\n",
    "| ultimate | 157  | 72.31 USD |\n",
    "\n",
    "\n",
    "\n",
    "Ultimate Plan's advantege is the ridiculous amount of provided resources to the customer, with the result, that roughly 20-30% of that offer aren't used at all. Assuming those unused resources aren't stocked on the customers account, it is pretty obvious that those 20-30% unused offers are wasted revenue potential.\n",
    "\n",
    "That fact of wasted revenue potential comes even more clearly when looking at the number of user from the surf plan as well as their respective usage behaivior. On average, they are a bit above their plan, but instead of selling up, their tend to stick to their surf plan. This leads to a user base twice as much as the ultimate plan.\n",
    "\n",
    "\n",
    "By taking all those facts into concideration, I would recomment Megaline to offer an hybrid model in between surf and ultimate plan. Thus, those surf plan user above their plan could be offered a 3 month trial phase for the hybrid model in order to convert them to a higher plan, applying the principals of product-led-growth.\n"
   ]
  },
  {
   "cell_type": "markdown",
   "metadata": {},
   "source": [
    "[Back to top](#top) "
   ]
  }
 ],
 "metadata": {
  "kernelspec": {
   "display_name": "Python 3",
   "language": "python",
   "name": "python3"
  },
  "language_info": {
   "codemirror_mode": {
    "name": "ipython",
    "version": 3
   },
   "file_extension": ".py",
   "mimetype": "text/x-python",
   "name": "python",
   "nbconvert_exporter": "python",
   "pygments_lexer": "ipython3",
   "version": "3.8.5"
  },
  "toc": {
   "base_numbering": 1,
   "nav_menu": {},
   "number_sections": true,
   "sideBar": true,
   "skip_h1_title": true,
   "title_cell": "Table of Contents",
   "title_sidebar": "Contents",
   "toc_cell": false,
   "toc_position": {},
   "toc_section_display": true,
   "toc_window_display": false
  }
 },
 "nbformat": 4,
 "nbformat_minor": 5
}
